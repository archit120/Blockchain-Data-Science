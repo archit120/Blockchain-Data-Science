{
 "cells": [
  {
   "cell_type": "markdown",
   "metadata": {},
   "source": [
    "## Description of the dataset\n",
    "\n",
    "\"The data set represents 10 years (1999-2008) of clinical care at 130 US hospitals and integrated delivery networks. It includes over 50 features representing patient and hospital outcomes. Information was extracted from the database for encounters that satisfied the following criteria.\n",
    "\n",
    "It is an inpatient encounter (a hospital admission). It is a diabetic encounter, that is, one during which any kind of diabetes was entered to the system as a diagnosis. The length of stay was at least 1 day and at most 14 days. Laboratory tests were performed during the encounter. Medications were administered during the encounter. The data contains such attributes as patient number, race, gender, age, admission type, time in hospital, medical specialty of admitting physician, number of lab test performed, HbA1c test result, diagnosis, number of medication, diabetic medications, number of outpatient, inpatient, and emergency visits in the year before the hospitalization, etc.\"\n",
    "\n"
   ]
  },
  {
   "cell_type": "markdown",
   "metadata": {},
   "source": [
    "### Target\n",
    "\n",
    "The target variable is predicting whether a patient after treatment will be readmitted or not. If readmission is predicted then whether the readmission occurs in less than 30 days or wheter it will happen in more than 30 days."
   ]
  },
  {
   "cell_type": "markdown",
   "metadata": {},
   "source": [
    "We'll start with some initial observations and continue by addressing the different parts of ML challenge."
   ]
  },
  {
   "cell_type": "code",
   "execution_count": 1,
   "metadata": {},
   "outputs": [],
   "source": [
    "import pandas as pd\n",
    "import numpy as np\n",
    "import seaborn as sns"
   ]
  },
  {
   "cell_type": "code",
   "execution_count": 2,
   "metadata": {},
   "outputs": [],
   "source": [
    "df = pd.read_csv('diabetic_data.csv')"
   ]
  },
  {
   "cell_type": "code",
   "execution_count": 3,
   "metadata": {},
   "outputs": [
    {
     "data": {
      "text/html": [
       "<div>\n",
       "<style scoped>\n",
       "    .dataframe tbody tr th:only-of-type {\n",
       "        vertical-align: middle;\n",
       "    }\n",
       "\n",
       "    .dataframe tbody tr th {\n",
       "        vertical-align: top;\n",
       "    }\n",
       "\n",
       "    .dataframe thead th {\n",
       "        text-align: right;\n",
       "    }\n",
       "</style>\n",
       "<table border=\"1\" class=\"dataframe\">\n",
       "  <thead>\n",
       "    <tr style=\"text-align: right;\">\n",
       "      <th></th>\n",
       "      <th>encounter_id</th>\n",
       "      <th>patient_nbr</th>\n",
       "      <th>race</th>\n",
       "      <th>gender</th>\n",
       "      <th>age</th>\n",
       "      <th>weight</th>\n",
       "      <th>admission_type_id</th>\n",
       "      <th>discharge_disposition_id</th>\n",
       "      <th>admission_source_id</th>\n",
       "      <th>time_in_hospital</th>\n",
       "      <th>...</th>\n",
       "      <th>citoglipton</th>\n",
       "      <th>insulin</th>\n",
       "      <th>glyburide-metformin</th>\n",
       "      <th>glipizide-metformin</th>\n",
       "      <th>glimepiride-pioglitazone</th>\n",
       "      <th>metformin-rosiglitazone</th>\n",
       "      <th>metformin-pioglitazone</th>\n",
       "      <th>change</th>\n",
       "      <th>diabetesMed</th>\n",
       "      <th>readmitted</th>\n",
       "    </tr>\n",
       "  </thead>\n",
       "  <tbody>\n",
       "    <tr>\n",
       "      <th>0</th>\n",
       "      <td>2278392</td>\n",
       "      <td>8222157</td>\n",
       "      <td>Caucasian</td>\n",
       "      <td>Female</td>\n",
       "      <td>[0-10)</td>\n",
       "      <td>?</td>\n",
       "      <td>6</td>\n",
       "      <td>25</td>\n",
       "      <td>1</td>\n",
       "      <td>1</td>\n",
       "      <td>...</td>\n",
       "      <td>No</td>\n",
       "      <td>No</td>\n",
       "      <td>No</td>\n",
       "      <td>No</td>\n",
       "      <td>No</td>\n",
       "      <td>No</td>\n",
       "      <td>No</td>\n",
       "      <td>No</td>\n",
       "      <td>No</td>\n",
       "      <td>NO</td>\n",
       "    </tr>\n",
       "    <tr>\n",
       "      <th>1</th>\n",
       "      <td>149190</td>\n",
       "      <td>55629189</td>\n",
       "      <td>Caucasian</td>\n",
       "      <td>Female</td>\n",
       "      <td>[10-20)</td>\n",
       "      <td>?</td>\n",
       "      <td>1</td>\n",
       "      <td>1</td>\n",
       "      <td>7</td>\n",
       "      <td>3</td>\n",
       "      <td>...</td>\n",
       "      <td>No</td>\n",
       "      <td>Up</td>\n",
       "      <td>No</td>\n",
       "      <td>No</td>\n",
       "      <td>No</td>\n",
       "      <td>No</td>\n",
       "      <td>No</td>\n",
       "      <td>Ch</td>\n",
       "      <td>Yes</td>\n",
       "      <td>&gt;30</td>\n",
       "    </tr>\n",
       "    <tr>\n",
       "      <th>2</th>\n",
       "      <td>64410</td>\n",
       "      <td>86047875</td>\n",
       "      <td>AfricanAmerican</td>\n",
       "      <td>Female</td>\n",
       "      <td>[20-30)</td>\n",
       "      <td>?</td>\n",
       "      <td>1</td>\n",
       "      <td>1</td>\n",
       "      <td>7</td>\n",
       "      <td>2</td>\n",
       "      <td>...</td>\n",
       "      <td>No</td>\n",
       "      <td>No</td>\n",
       "      <td>No</td>\n",
       "      <td>No</td>\n",
       "      <td>No</td>\n",
       "      <td>No</td>\n",
       "      <td>No</td>\n",
       "      <td>No</td>\n",
       "      <td>Yes</td>\n",
       "      <td>NO</td>\n",
       "    </tr>\n",
       "    <tr>\n",
       "      <th>3</th>\n",
       "      <td>500364</td>\n",
       "      <td>82442376</td>\n",
       "      <td>Caucasian</td>\n",
       "      <td>Male</td>\n",
       "      <td>[30-40)</td>\n",
       "      <td>?</td>\n",
       "      <td>1</td>\n",
       "      <td>1</td>\n",
       "      <td>7</td>\n",
       "      <td>2</td>\n",
       "      <td>...</td>\n",
       "      <td>No</td>\n",
       "      <td>Up</td>\n",
       "      <td>No</td>\n",
       "      <td>No</td>\n",
       "      <td>No</td>\n",
       "      <td>No</td>\n",
       "      <td>No</td>\n",
       "      <td>Ch</td>\n",
       "      <td>Yes</td>\n",
       "      <td>NO</td>\n",
       "    </tr>\n",
       "    <tr>\n",
       "      <th>4</th>\n",
       "      <td>16680</td>\n",
       "      <td>42519267</td>\n",
       "      <td>Caucasian</td>\n",
       "      <td>Male</td>\n",
       "      <td>[40-50)</td>\n",
       "      <td>?</td>\n",
       "      <td>1</td>\n",
       "      <td>1</td>\n",
       "      <td>7</td>\n",
       "      <td>1</td>\n",
       "      <td>...</td>\n",
       "      <td>No</td>\n",
       "      <td>Steady</td>\n",
       "      <td>No</td>\n",
       "      <td>No</td>\n",
       "      <td>No</td>\n",
       "      <td>No</td>\n",
       "      <td>No</td>\n",
       "      <td>Ch</td>\n",
       "      <td>Yes</td>\n",
       "      <td>NO</td>\n",
       "    </tr>\n",
       "  </tbody>\n",
       "</table>\n",
       "<p>5 rows × 50 columns</p>\n",
       "</div>"
      ],
      "text/plain": [
       "   encounter_id  patient_nbr             race  gender      age weight  \\\n",
       "0       2278392      8222157        Caucasian  Female   [0-10)      ?   \n",
       "1        149190     55629189        Caucasian  Female  [10-20)      ?   \n",
       "2         64410     86047875  AfricanAmerican  Female  [20-30)      ?   \n",
       "3        500364     82442376        Caucasian    Male  [30-40)      ?   \n",
       "4         16680     42519267        Caucasian    Male  [40-50)      ?   \n",
       "\n",
       "   admission_type_id  discharge_disposition_id  admission_source_id  \\\n",
       "0                  6                        25                    1   \n",
       "1                  1                         1                    7   \n",
       "2                  1                         1                    7   \n",
       "3                  1                         1                    7   \n",
       "4                  1                         1                    7   \n",
       "\n",
       "   time_in_hospital    ...     citoglipton insulin  glyburide-metformin  \\\n",
       "0                 1    ...              No      No                   No   \n",
       "1                 3    ...              No      Up                   No   \n",
       "2                 2    ...              No      No                   No   \n",
       "3                 2    ...              No      Up                   No   \n",
       "4                 1    ...              No  Steady                   No   \n",
       "\n",
       "   glipizide-metformin  glimepiride-pioglitazone  metformin-rosiglitazone  \\\n",
       "0                   No                        No                       No   \n",
       "1                   No                        No                       No   \n",
       "2                   No                        No                       No   \n",
       "3                   No                        No                       No   \n",
       "4                   No                        No                       No   \n",
       "\n",
       "   metformin-pioglitazone  change diabetesMed readmitted  \n",
       "0                      No      No          No         NO  \n",
       "1                      No      Ch         Yes        >30  \n",
       "2                      No      No         Yes         NO  \n",
       "3                      No      Ch         Yes         NO  \n",
       "4                      No      Ch         Yes         NO  \n",
       "\n",
       "[5 rows x 50 columns]"
      ]
     },
     "execution_count": 3,
     "metadata": {},
     "output_type": "execute_result"
    }
   ],
   "source": [
    "df.head()"
   ]
  },
  {
   "cell_type": "code",
   "execution_count": 4,
   "metadata": {},
   "outputs": [
    {
     "data": {
      "text/html": [
       "<div>\n",
       "<style scoped>\n",
       "    .dataframe tbody tr th:only-of-type {\n",
       "        vertical-align: middle;\n",
       "    }\n",
       "\n",
       "    .dataframe tbody tr th {\n",
       "        vertical-align: top;\n",
       "    }\n",
       "\n",
       "    .dataframe thead th {\n",
       "        text-align: right;\n",
       "    }\n",
       "</style>\n",
       "<table border=\"1\" class=\"dataframe\">\n",
       "  <thead>\n",
       "    <tr style=\"text-align: right;\">\n",
       "      <th></th>\n",
       "      <th>encounter_id</th>\n",
       "      <th>patient_nbr</th>\n",
       "      <th>admission_type_id</th>\n",
       "      <th>discharge_disposition_id</th>\n",
       "      <th>admission_source_id</th>\n",
       "      <th>time_in_hospital</th>\n",
       "      <th>num_lab_procedures</th>\n",
       "      <th>num_procedures</th>\n",
       "      <th>num_medications</th>\n",
       "      <th>number_outpatient</th>\n",
       "      <th>number_emergency</th>\n",
       "      <th>number_inpatient</th>\n",
       "      <th>number_diagnoses</th>\n",
       "    </tr>\n",
       "  </thead>\n",
       "  <tbody>\n",
       "    <tr>\n",
       "      <th>count</th>\n",
       "      <td>1.017660e+05</td>\n",
       "      <td>1.017660e+05</td>\n",
       "      <td>101766.000000</td>\n",
       "      <td>101766.000000</td>\n",
       "      <td>101766.000000</td>\n",
       "      <td>101766.000000</td>\n",
       "      <td>101766.000000</td>\n",
       "      <td>101766.000000</td>\n",
       "      <td>101766.000000</td>\n",
       "      <td>101766.000000</td>\n",
       "      <td>101766.000000</td>\n",
       "      <td>101766.000000</td>\n",
       "      <td>101766.000000</td>\n",
       "    </tr>\n",
       "    <tr>\n",
       "      <th>mean</th>\n",
       "      <td>1.652016e+08</td>\n",
       "      <td>5.433040e+07</td>\n",
       "      <td>2.024006</td>\n",
       "      <td>3.715642</td>\n",
       "      <td>5.754437</td>\n",
       "      <td>4.395987</td>\n",
       "      <td>43.095641</td>\n",
       "      <td>1.339730</td>\n",
       "      <td>16.021844</td>\n",
       "      <td>0.369357</td>\n",
       "      <td>0.197836</td>\n",
       "      <td>0.635566</td>\n",
       "      <td>7.422607</td>\n",
       "    </tr>\n",
       "    <tr>\n",
       "      <th>std</th>\n",
       "      <td>1.026403e+08</td>\n",
       "      <td>3.869636e+07</td>\n",
       "      <td>1.445403</td>\n",
       "      <td>5.280166</td>\n",
       "      <td>4.064081</td>\n",
       "      <td>2.985108</td>\n",
       "      <td>19.674362</td>\n",
       "      <td>1.705807</td>\n",
       "      <td>8.127566</td>\n",
       "      <td>1.267265</td>\n",
       "      <td>0.930472</td>\n",
       "      <td>1.262863</td>\n",
       "      <td>1.933600</td>\n",
       "    </tr>\n",
       "    <tr>\n",
       "      <th>min</th>\n",
       "      <td>1.252200e+04</td>\n",
       "      <td>1.350000e+02</td>\n",
       "      <td>1.000000</td>\n",
       "      <td>1.000000</td>\n",
       "      <td>1.000000</td>\n",
       "      <td>1.000000</td>\n",
       "      <td>1.000000</td>\n",
       "      <td>0.000000</td>\n",
       "      <td>1.000000</td>\n",
       "      <td>0.000000</td>\n",
       "      <td>0.000000</td>\n",
       "      <td>0.000000</td>\n",
       "      <td>1.000000</td>\n",
       "    </tr>\n",
       "    <tr>\n",
       "      <th>25%</th>\n",
       "      <td>8.496119e+07</td>\n",
       "      <td>2.341322e+07</td>\n",
       "      <td>1.000000</td>\n",
       "      <td>1.000000</td>\n",
       "      <td>1.000000</td>\n",
       "      <td>2.000000</td>\n",
       "      <td>31.000000</td>\n",
       "      <td>0.000000</td>\n",
       "      <td>10.000000</td>\n",
       "      <td>0.000000</td>\n",
       "      <td>0.000000</td>\n",
       "      <td>0.000000</td>\n",
       "      <td>6.000000</td>\n",
       "    </tr>\n",
       "    <tr>\n",
       "      <th>50%</th>\n",
       "      <td>1.523890e+08</td>\n",
       "      <td>4.550514e+07</td>\n",
       "      <td>1.000000</td>\n",
       "      <td>1.000000</td>\n",
       "      <td>7.000000</td>\n",
       "      <td>4.000000</td>\n",
       "      <td>44.000000</td>\n",
       "      <td>1.000000</td>\n",
       "      <td>15.000000</td>\n",
       "      <td>0.000000</td>\n",
       "      <td>0.000000</td>\n",
       "      <td>0.000000</td>\n",
       "      <td>8.000000</td>\n",
       "    </tr>\n",
       "    <tr>\n",
       "      <th>75%</th>\n",
       "      <td>2.302709e+08</td>\n",
       "      <td>8.754595e+07</td>\n",
       "      <td>3.000000</td>\n",
       "      <td>4.000000</td>\n",
       "      <td>7.000000</td>\n",
       "      <td>6.000000</td>\n",
       "      <td>57.000000</td>\n",
       "      <td>2.000000</td>\n",
       "      <td>20.000000</td>\n",
       "      <td>0.000000</td>\n",
       "      <td>0.000000</td>\n",
       "      <td>1.000000</td>\n",
       "      <td>9.000000</td>\n",
       "    </tr>\n",
       "    <tr>\n",
       "      <th>max</th>\n",
       "      <td>4.438672e+08</td>\n",
       "      <td>1.895026e+08</td>\n",
       "      <td>8.000000</td>\n",
       "      <td>28.000000</td>\n",
       "      <td>25.000000</td>\n",
       "      <td>14.000000</td>\n",
       "      <td>132.000000</td>\n",
       "      <td>6.000000</td>\n",
       "      <td>81.000000</td>\n",
       "      <td>42.000000</td>\n",
       "      <td>76.000000</td>\n",
       "      <td>21.000000</td>\n",
       "      <td>16.000000</td>\n",
       "    </tr>\n",
       "  </tbody>\n",
       "</table>\n",
       "</div>"
      ],
      "text/plain": [
       "       encounter_id   patient_nbr  admission_type_id  \\\n",
       "count  1.017660e+05  1.017660e+05      101766.000000   \n",
       "mean   1.652016e+08  5.433040e+07           2.024006   \n",
       "std    1.026403e+08  3.869636e+07           1.445403   \n",
       "min    1.252200e+04  1.350000e+02           1.000000   \n",
       "25%    8.496119e+07  2.341322e+07           1.000000   \n",
       "50%    1.523890e+08  4.550514e+07           1.000000   \n",
       "75%    2.302709e+08  8.754595e+07           3.000000   \n",
       "max    4.438672e+08  1.895026e+08           8.000000   \n",
       "\n",
       "       discharge_disposition_id  admission_source_id  time_in_hospital  \\\n",
       "count             101766.000000        101766.000000     101766.000000   \n",
       "mean                   3.715642             5.754437          4.395987   \n",
       "std                    5.280166             4.064081          2.985108   \n",
       "min                    1.000000             1.000000          1.000000   \n",
       "25%                    1.000000             1.000000          2.000000   \n",
       "50%                    1.000000             7.000000          4.000000   \n",
       "75%                    4.000000             7.000000          6.000000   \n",
       "max                   28.000000            25.000000         14.000000   \n",
       "\n",
       "       num_lab_procedures  num_procedures  num_medications  number_outpatient  \\\n",
       "count       101766.000000   101766.000000    101766.000000      101766.000000   \n",
       "mean            43.095641        1.339730        16.021844           0.369357   \n",
       "std             19.674362        1.705807         8.127566           1.267265   \n",
       "min              1.000000        0.000000         1.000000           0.000000   \n",
       "25%             31.000000        0.000000        10.000000           0.000000   \n",
       "50%             44.000000        1.000000        15.000000           0.000000   \n",
       "75%             57.000000        2.000000        20.000000           0.000000   \n",
       "max            132.000000        6.000000        81.000000          42.000000   \n",
       "\n",
       "       number_emergency  number_inpatient  number_diagnoses  \n",
       "count     101766.000000     101766.000000     101766.000000  \n",
       "mean           0.197836          0.635566          7.422607  \n",
       "std            0.930472          1.262863          1.933600  \n",
       "min            0.000000          0.000000          1.000000  \n",
       "25%            0.000000          0.000000          6.000000  \n",
       "50%            0.000000          0.000000          8.000000  \n",
       "75%            0.000000          1.000000          9.000000  \n",
       "max           76.000000         21.000000         16.000000  "
      ]
     },
     "execution_count": 4,
     "metadata": {},
     "output_type": "execute_result"
    }
   ],
   "source": [
    "df.describe()"
   ]
  },
  {
   "cell_type": "markdown",
   "metadata": {},
   "source": [
    "From the description.pdf file attached with the dataset we learn that encounter_id and patient_nbr are specific to every patient and as such are irrelevant from a prediction perspective. As such these columns will be dropped in the next step."
   ]
  },
  {
   "cell_type": "code",
   "execution_count": 5,
   "metadata": {},
   "outputs": [],
   "source": [
    "df = df.drop(['encounter_id', 'patient_nbr'], axis=1)"
   ]
  },
  {
   "cell_type": "code",
   "execution_count": 6,
   "metadata": {},
   "outputs": [
    {
     "data": {
      "text/plain": [
       "0.9685847925633315"
      ]
     },
     "execution_count": 6,
     "metadata": {},
     "output_type": "execute_result"
    }
   ],
   "source": [
    "((df['weight'] == '?').sum())/df.shape[0]"
   ]
  },
  {
   "cell_type": "markdown",
   "metadata": {},
   "source": [
    "Also, the weight column is missing in 96.85%(see above) of the rows. If we keep weight column we risk losing performance because of regularization and/or overfitting in the patients which have weight information. As such the weight column is dropped aswell at this point."
   ]
  },
  {
   "cell_type": "code",
   "execution_count": 7,
   "metadata": {},
   "outputs": [],
   "source": [
    "df = df.drop('weight', axis=1)"
   ]
  },
  {
   "cell_type": "code",
   "execution_count": 8,
   "metadata": {},
   "outputs": [
    {
     "data": {
      "text/html": [
       "<div>\n",
       "<style scoped>\n",
       "    .dataframe tbody tr th:only-of-type {\n",
       "        vertical-align: middle;\n",
       "    }\n",
       "\n",
       "    .dataframe tbody tr th {\n",
       "        vertical-align: top;\n",
       "    }\n",
       "\n",
       "    .dataframe thead th {\n",
       "        text-align: right;\n",
       "    }\n",
       "</style>\n",
       "<table border=\"1\" class=\"dataframe\">\n",
       "  <thead>\n",
       "    <tr style=\"text-align: right;\">\n",
       "      <th></th>\n",
       "      <th>race</th>\n",
       "      <th>gender</th>\n",
       "      <th>age</th>\n",
       "      <th>admission_type_id</th>\n",
       "      <th>discharge_disposition_id</th>\n",
       "      <th>admission_source_id</th>\n",
       "      <th>time_in_hospital</th>\n",
       "      <th>payer_code</th>\n",
       "      <th>medical_specialty</th>\n",
       "      <th>num_lab_procedures</th>\n",
       "      <th>...</th>\n",
       "      <th>citoglipton</th>\n",
       "      <th>insulin</th>\n",
       "      <th>glyburide-metformin</th>\n",
       "      <th>glipizide-metformin</th>\n",
       "      <th>glimepiride-pioglitazone</th>\n",
       "      <th>metformin-rosiglitazone</th>\n",
       "      <th>metformin-pioglitazone</th>\n",
       "      <th>change</th>\n",
       "      <th>diabetesMed</th>\n",
       "      <th>readmitted</th>\n",
       "    </tr>\n",
       "  </thead>\n",
       "  <tbody>\n",
       "    <tr>\n",
       "      <th>0</th>\n",
       "      <td>Caucasian</td>\n",
       "      <td>Female</td>\n",
       "      <td>[0-10)</td>\n",
       "      <td>6</td>\n",
       "      <td>25</td>\n",
       "      <td>1</td>\n",
       "      <td>1</td>\n",
       "      <td>?</td>\n",
       "      <td>Pediatrics-Endocrinology</td>\n",
       "      <td>41</td>\n",
       "      <td>...</td>\n",
       "      <td>No</td>\n",
       "      <td>No</td>\n",
       "      <td>No</td>\n",
       "      <td>No</td>\n",
       "      <td>No</td>\n",
       "      <td>No</td>\n",
       "      <td>No</td>\n",
       "      <td>No</td>\n",
       "      <td>No</td>\n",
       "      <td>NO</td>\n",
       "    </tr>\n",
       "    <tr>\n",
       "      <th>1</th>\n",
       "      <td>Caucasian</td>\n",
       "      <td>Female</td>\n",
       "      <td>[10-20)</td>\n",
       "      <td>1</td>\n",
       "      <td>1</td>\n",
       "      <td>7</td>\n",
       "      <td>3</td>\n",
       "      <td>?</td>\n",
       "      <td>?</td>\n",
       "      <td>59</td>\n",
       "      <td>...</td>\n",
       "      <td>No</td>\n",
       "      <td>Up</td>\n",
       "      <td>No</td>\n",
       "      <td>No</td>\n",
       "      <td>No</td>\n",
       "      <td>No</td>\n",
       "      <td>No</td>\n",
       "      <td>Ch</td>\n",
       "      <td>Yes</td>\n",
       "      <td>&gt;30</td>\n",
       "    </tr>\n",
       "    <tr>\n",
       "      <th>2</th>\n",
       "      <td>AfricanAmerican</td>\n",
       "      <td>Female</td>\n",
       "      <td>[20-30)</td>\n",
       "      <td>1</td>\n",
       "      <td>1</td>\n",
       "      <td>7</td>\n",
       "      <td>2</td>\n",
       "      <td>?</td>\n",
       "      <td>?</td>\n",
       "      <td>11</td>\n",
       "      <td>...</td>\n",
       "      <td>No</td>\n",
       "      <td>No</td>\n",
       "      <td>No</td>\n",
       "      <td>No</td>\n",
       "      <td>No</td>\n",
       "      <td>No</td>\n",
       "      <td>No</td>\n",
       "      <td>No</td>\n",
       "      <td>Yes</td>\n",
       "      <td>NO</td>\n",
       "    </tr>\n",
       "    <tr>\n",
       "      <th>3</th>\n",
       "      <td>Caucasian</td>\n",
       "      <td>Male</td>\n",
       "      <td>[30-40)</td>\n",
       "      <td>1</td>\n",
       "      <td>1</td>\n",
       "      <td>7</td>\n",
       "      <td>2</td>\n",
       "      <td>?</td>\n",
       "      <td>?</td>\n",
       "      <td>44</td>\n",
       "      <td>...</td>\n",
       "      <td>No</td>\n",
       "      <td>Up</td>\n",
       "      <td>No</td>\n",
       "      <td>No</td>\n",
       "      <td>No</td>\n",
       "      <td>No</td>\n",
       "      <td>No</td>\n",
       "      <td>Ch</td>\n",
       "      <td>Yes</td>\n",
       "      <td>NO</td>\n",
       "    </tr>\n",
       "    <tr>\n",
       "      <th>4</th>\n",
       "      <td>Caucasian</td>\n",
       "      <td>Male</td>\n",
       "      <td>[40-50)</td>\n",
       "      <td>1</td>\n",
       "      <td>1</td>\n",
       "      <td>7</td>\n",
       "      <td>1</td>\n",
       "      <td>?</td>\n",
       "      <td>?</td>\n",
       "      <td>51</td>\n",
       "      <td>...</td>\n",
       "      <td>No</td>\n",
       "      <td>Steady</td>\n",
       "      <td>No</td>\n",
       "      <td>No</td>\n",
       "      <td>No</td>\n",
       "      <td>No</td>\n",
       "      <td>No</td>\n",
       "      <td>Ch</td>\n",
       "      <td>Yes</td>\n",
       "      <td>NO</td>\n",
       "    </tr>\n",
       "  </tbody>\n",
       "</table>\n",
       "<p>5 rows × 47 columns</p>\n",
       "</div>"
      ],
      "text/plain": [
       "              race  gender      age  admission_type_id  \\\n",
       "0        Caucasian  Female   [0-10)                  6   \n",
       "1        Caucasian  Female  [10-20)                  1   \n",
       "2  AfricanAmerican  Female  [20-30)                  1   \n",
       "3        Caucasian    Male  [30-40)                  1   \n",
       "4        Caucasian    Male  [40-50)                  1   \n",
       "\n",
       "   discharge_disposition_id  admission_source_id  time_in_hospital payer_code  \\\n",
       "0                        25                    1                 1          ?   \n",
       "1                         1                    7                 3          ?   \n",
       "2                         1                    7                 2          ?   \n",
       "3                         1                    7                 2          ?   \n",
       "4                         1                    7                 1          ?   \n",
       "\n",
       "          medical_specialty  num_lab_procedures    ...      citoglipton  \\\n",
       "0  Pediatrics-Endocrinology                  41    ...               No   \n",
       "1                         ?                  59    ...               No   \n",
       "2                         ?                  11    ...               No   \n",
       "3                         ?                  44    ...               No   \n",
       "4                         ?                  51    ...               No   \n",
       "\n",
       "   insulin  glyburide-metformin  glipizide-metformin  \\\n",
       "0       No                   No                   No   \n",
       "1       Up                   No                   No   \n",
       "2       No                   No                   No   \n",
       "3       Up                   No                   No   \n",
       "4   Steady                   No                   No   \n",
       "\n",
       "   glimepiride-pioglitazone metformin-rosiglitazone metformin-pioglitazone  \\\n",
       "0                        No                      No                     No   \n",
       "1                        No                      No                     No   \n",
       "2                        No                      No                     No   \n",
       "3                        No                      No                     No   \n",
       "4                        No                      No                     No   \n",
       "\n",
       "  change  diabetesMed readmitted  \n",
       "0     No           No         NO  \n",
       "1     Ch          Yes        >30  \n",
       "2     No          Yes         NO  \n",
       "3     Ch          Yes         NO  \n",
       "4     Ch          Yes         NO  \n",
       "\n",
       "[5 rows x 47 columns]"
      ]
     },
     "execution_count": 8,
     "metadata": {},
     "output_type": "execute_result"
    }
   ],
   "source": [
    "df.head()"
   ]
  },
  {
   "cell_type": "markdown",
   "metadata": {},
   "source": [
    "From the included pdf, payer_code refers to the mode of payment(If insurance then company or self) for the hospital visit. As such, it's highly likely that this column does not contribute to the target variable and I drop this column aswell."
   ]
  },
  {
   "cell_type": "code",
   "execution_count": 9,
   "metadata": {},
   "outputs": [],
   "source": [
    "df = df.drop('payer_code', axis=1)"
   ]
  },
  {
   "cell_type": "markdown",
   "metadata": {},
   "source": [
    "Now, we will convert all categorical features to their one-hot encoded equivalents. All variables except time_in_hospital and those prefixed with num are categorical. "
   ]
  },
  {
   "cell_type": "code",
   "execution_count": 10,
   "metadata": {},
   "outputs": [
    {
     "data": {
      "text/plain": [
       "NO     54864\n",
       ">30    35545\n",
       "<30    11357\n",
       "Name: readmitted, dtype: int64"
      ]
     },
     "execution_count": 10,
     "metadata": {},
     "output_type": "execute_result"
    }
   ],
   "source": [
    "df.readmitted.value_counts()"
   ]
  },
  {
   "cell_type": "code",
   "execution_count": 11,
   "metadata": {},
   "outputs": [
    {
     "data": {
      "text/plain": [
       "0.5391191557101586"
      ]
     },
     "execution_count": 11,
     "metadata": {},
     "output_type": "execute_result"
    }
   ],
   "source": [
    "54864/(54864+35545+11357)"
   ]
  },
  {
   "cell_type": "markdown",
   "metadata": {},
   "source": [
    "## Metric Selection\n",
    "\n",
    "Even though the classes are skewed, the skew is not so bad that we can't use accuracy. So, we will use accuracy as a primary measure for performance in this project. At times, we will also use the confusion matrix for reference."
   ]
  },
  {
   "cell_type": "code",
   "execution_count": 12,
   "metadata": {},
   "outputs": [],
   "source": [
    "cat_columns = []\n",
    "num_columns = []\n",
    "for i,c in enumerate(df.columns):\n",
    "    if not(c=='time_in_hospital' or ('num' in str(c)) or 'readmitted'==c):\n",
    "        cat_columns.append(c)\n",
    "    elif c!= 'readmitted':\n",
    "        num_columns.append(c)"
   ]
  },
  {
   "cell_type": "code",
   "execution_count": 13,
   "metadata": {
    "scrolled": true
   },
   "outputs": [
    {
     "data": {
      "text/plain": [
       "['time_in_hospital',\n",
       " 'num_lab_procedures',\n",
       " 'num_procedures',\n",
       " 'num_medications',\n",
       " 'number_outpatient',\n",
       " 'number_emergency',\n",
       " 'number_inpatient',\n",
       " 'number_diagnoses']"
      ]
     },
     "execution_count": 13,
     "metadata": {},
     "output_type": "execute_result"
    }
   ],
   "source": [
    "num_columns"
   ]
  },
  {
   "cell_type": "markdown",
   "metadata": {},
   "source": [
    "## Model Selection\n",
    "\n",
    "I'll be using an ensemble of gradient boosting and random forest classifiers. I'm doing this because most of the data contains categorical features which are handled much better by tree based models. Also these models are usually among the best performing for any kind of structured data project. Finally, these models can also be used to interpret feature importance and help in feature engineering. "
   ]
  },
  {
   "cell_type": "code",
   "execution_count": 14,
   "metadata": {},
   "outputs": [
    {
     "name": "stdout",
     "output_type": "stream",
     "text": [
     ]
    }
   ],
   "source": [
    "import h2o\n"
   ]
  },
  {
   "cell_type": "code",
   "execution_count": 15,
   "metadata": {},
   "outputs": [
    {
     "name": "stdout",
     "output_type": "stream",
     "text": [
      "Checking whether there is an H2O instance running at http://localhost:54321..... not found.\n",
      "Attempting to start a local H2O server...\n",
      "; Java HotSpot(TM) 64-Bit Server VM (build 25.201-b09, mixed mode)\n",
      "  Starting server from C:\\ProgramData\\Anaconda3\\lib\\site-packages\\h2o\\backend\\bin\\h2o.jar\n",
      "  Ice root: C:\\Users\\archi\\AppData\\Local\\Temp\\tmpahlyo4_i\n",
      "  JVM stdout: C:\\Users\\archi\\AppData\\Local\\Temp\\tmpahlyo4_i\\h2o_archi_started_from_python.out\n",
      "  JVM stderr: C:\\Users\\archi\\AppData\\Local\\Temp\\tmpahlyo4_i\\h2o_archi_started_from_python.err\n",
      "  Server is running at http://127.0.0.1:54321\n",
      "Connecting to H2O server at http://127.0.0.1:54321... successful.\n"
     ]
    },
    {
     "data": {
      "text/html": [
       "<div style=\"overflow:auto\"><table style=\"width:50%\"><tr><td>H2O cluster uptime:</td>\n",
       "<td>02 secs</td></tr>\n",
       "<tr><td>H2O cluster timezone:</td>\n",
       "<td>Asia/Kolkata</td></tr>\n",
       "<tr><td>H2O data parsing timezone:</td>\n",
       "<td>UTC</td></tr>\n",
       "<tr><td>H2O cluster version:</td>\n",
       "<td>3.22.1.6</td></tr>\n",
       "<tr><td>H2O cluster version age:</td>\n",
       "<td>9 days </td></tr>\n",
       "<tr><td>H2O cluster name:</td>\n",
       "<td>H2O_from_python_archi_pn5jzj</td></tr>\n",
       "<tr><td>H2O cluster total nodes:</td>\n",
       "<td>1</td></tr>\n",
       "<tr><td>H2O cluster free memory:</td>\n",
       "<td>5.333 Gb</td></tr>\n",
       "<tr><td>H2O cluster total cores:</td>\n",
       "<td>8</td></tr>\n",
       "<tr><td>H2O cluster allowed cores:</td>\n",
       "<td>8</td></tr>\n",
       "<tr><td>H2O cluster status:</td>\n",
       "<td>accepting new members, healthy</td></tr>\n",
       "<tr><td>H2O connection url:</td>\n",
       "<td>http://127.0.0.1:54321</td></tr>\n",
       "<tr><td>H2O connection proxy:</td>\n",
       "<td>None</td></tr>\n",
       "<tr><td>H2O internal security:</td>\n",
       "<td>False</td></tr>\n",
       "<tr><td>H2O API Extensions:</td>\n",
       "<td>Amazon S3, Algos, AutoML, Core V3, Core V4</td></tr>\n",
       "<tr><td>Python version:</td>\n",
       "<td>3.6.5 final</td></tr></table></div>"
      ],
      "text/plain": [
       "--------------------------  ------------------------------------------\n",
       "H2O cluster uptime:         02 secs\n",
       "H2O cluster timezone:       Asia/Kolkata\n",
       "H2O data parsing timezone:  UTC\n",
       "H2O cluster version:        3.22.1.6\n",
       "H2O cluster version age:    9 days\n",
       "H2O cluster name:           H2O_from_python_archi_pn5jzj\n",
       "H2O cluster total nodes:    1\n",
       "H2O cluster free memory:    5.333 Gb\n",
       "H2O cluster total cores:    8\n",
       "H2O cluster allowed cores:  8\n",
       "H2O cluster status:         accepting new members, healthy\n",
       "H2O connection url:         http://127.0.0.1:54321\n",
       "H2O connection proxy:\n",
       "H2O internal security:      False\n",
       "H2O API Extensions:         Amazon S3, Algos, AutoML, Core V3, Core V4\n",
       "Python version:             3.6.5 final\n",
       "--------------------------  ------------------------------------------"
      ]
     },
     "metadata": {},
     "output_type": "display_data"
    }
   ],
   "source": [
    "h2o.init(max_mem_size = \"6G\", min_mem_size='2G')             #specify max number of bytes. uses all cores by default.\n",
    "h2o.remove_all()                          #clean slate, in case cluster was already running\n",
    "\n",
    "from h2o.estimators.gbm import H2OGradientBoostingEstimator\n",
    "from h2o.estimators.random_forest import H2ORandomForestEstimator\n"
   ]
  },
  {
   "cell_type": "code",
   "execution_count": 16,
   "metadata": {},
   "outputs": [
    {
     "name": "stdout",
     "output_type": "stream",
     "text": [
      "Parse progress: |█████████████████████████████████████████████████████████| 100%\n"
     ]
    }
   ],
   "source": [
    "\n",
    "hf = h2o.H2OFrame(df)\n",
    "for c in hf.types:\n",
    "    if (not 'num' in c) and (not 'time' in c):\n",
    "        hf[c] = hf[c].ascharacter().asfactor()\n",
    "covtype_X = hf.col_names[:-1]     \n",
    "covtype_y = hf.col_names[-1]    \n",
    "\n",
    "train, valid, test = hf.split_frame([0.8, 0.1], seed=1234)\n"
   ]
  },
  {
   "cell_type": "code",
   "execution_count": 17,
   "metadata": {},
   "outputs": [
    {
     "name": "stdout",
     "output_type": "stream",
     "text": [
      "gbm Grid Build progress: |████████████████████████████████████████████████| 100%\n"
     ]
    }
   ],
   "source": [
    "from h2o.grid.grid_search import H2OGridSearch\n",
    "\n",
    "gbm_params1 = {'max_depth': [8],\n",
    "                'sample_rate': [0.8, 1.0],\n",
    "                'col_sample_rate':[0.2, 1.0],\n",
    "                'ntrees': [20,50]}\n",
    "\n",
    "# Train and validate a cartesian grid of GBMs\n",
    "gbm_grid1 = H2OGridSearch(model=H2OGradientBoostingEstimator,\n",
    "                          grid_id='gbm_grid1',\n",
    "                          hyper_params=gbm_params1)\n",
    "gbm_grid1.train(covtype_X, covtype_y,\n",
    "                training_frame=train,\n",
    "                validation_frame=valid,\n",
    "                seed=1)\n",
    "\n"
   ]
  },
  {
   "cell_type": "code",
   "execution_count": 18,
   "metadata": {},
   "outputs": [
    {
     "name": "stdout",
     "output_type": "stream",
     "text": [
      "    col_sample_rate max_depth ntrees sample_rate          model_ids  \\\n",
      "0               0.2         8     50         0.8  gbm_grid1_model_3   \n",
      "1               0.2         8     20         1.0  gbm_grid1_model_5   \n",
      "2               0.2         8     50         1.0  gbm_grid1_model_7   \n",
      "3               0.2         8     20         0.8  gbm_grid1_model_1   \n",
      "4               1.0         8     50         0.8  gbm_grid1_model_4   \n",
      "5               1.0         8     20         0.8  gbm_grid1_model_2   \n",
      "6               1.0         8     20         1.0  gbm_grid1_model_6   \n",
      "7               1.0         8     50         1.0  gbm_grid1_model_8   \n",
      "\n",
      "             accuracy  \n",
      "0  0.5862205503860622  \n",
      "1  0.5842407444070481  \n",
      "2  0.5841417541080974  \n",
      "3  0.5825579093248862  \n",
      "4   0.576321520490992  \n",
      "5  0.5759255592951891  \n",
      "6  0.5741437339140765  \n",
      "7  0.5718669570382102  \n"
     ]
    },
    {
     "data": {
      "text/plain": []
     },
     "execution_count": 18,
     "metadata": {},
     "output_type": "execute_result"
    }
   ],
   "source": [
    "gbm_gridperf1 = gbm_grid1.get_grid(sort_by='accuracy', decreasing=True)\n",
    "gbm_gridperf1"
   ]
  },
  {
   "cell_type": "markdown",
   "metadata": {},
   "source": [
    "The computer that I have access to right now isn't capable of doing gridsearch for random forest and as such the below mentioned parameters are only for demonstration purpose"
   ]
  },
  {
   "cell_type": "code",
   "execution_count": 19,
   "metadata": {},
   "outputs": [
    {
     "name": "stdout",
     "output_type": "stream",
     "text": [
      "drf Grid Build progress: |████████████████████████████████████████████████| 100%\n"
     ]
    }
   ],
   "source": [
    "rf_params2 = {\n",
    "                'max_depth': [35, 50],\n",
    "                'sample_rate': [0.8],\n",
    "                'ntrees': [50]}\n",
    "\n",
    "rf_grid2 = H2OGridSearch(model=H2ORandomForestEstimator,\n",
    "                          grid_id='rf_grid01',\n",
    "                          hyper_params=rf_params2)\n",
    "rf_grid2.train(covtype_X, covtype_y,\n",
    "                training_frame=train,\n",
    "                validation_frame=valid,\n",
    "                seed=1)\n",
    "\n"
   ]
  },
  {
   "cell_type": "code",
   "execution_count": 20,
   "metadata": {},
   "outputs": [],
   "source": [
    "rf_gridperf2 = rf_grid2.get_grid(sort_by='accuracy', decreasing=True)\n"
   ]
  },
  {
   "cell_type": "code",
   "execution_count": 21,
   "metadata": {},
   "outputs": [
    {
     "name": "stdout",
     "output_type": "stream",
     "text": [
      "    max_depth ntrees sample_rate          model_ids            accuracy\n",
      "0          35     50         0.8  rf_grid01_model_1  0.5843397347059989\n",
      "1          50     50         0.8  rf_grid01_model_2  0.5837457929122947\n"
     ]
    },
    {
     "data": {
      "text/plain": []
     },
     "execution_count": 22,
     "metadata": {},
     "output_type": "execute_result"
    }
   ],
   "source": [
    "rf_gridperf2"
   ]
  },
  {
   "cell_type": "code",
   "execution_count": 23,
   "metadata": {},
   "outputs": [],
   "source": [
    "best_rf = rf_gridperf2.models[0]\n",
    "best_gbm = gbm_gridperf1.models[0]"
   ]
  },
  {
   "cell_type": "code",
   "execution_count": 24,
   "metadata": {},
   "outputs": [
    {
     "data": {
      "text/plain": [
       "'C:\\\\Users\\\\archi\\\\Documents\\\\Blockchain Data Science\\\\rf.h5\\\\rf_grid01_model_1'"
      ]
     },
     "execution_count": 24,
     "metadata": {},
     "output_type": "execute_result"
    }
   ],
   "source": [
    "h2o.save_model(best_rf, 'rf.h5', force=True)\n",
    "h2o.save_model(best_gbm, 'gbm.h5', force=True)"
   ]
  },
  {
   "cell_type": "code",
   "execution_count": 25,
   "metadata": {},
   "outputs": [
    {
     "name": "stdout",
     "output_type": "stream",
     "text": [
      "Model Details\n",
      "=============\n",
      "H2ORandomForestEstimator :  Distributed Random Forest\n",
      "Model Key:  rf_grid01_model_1\n",
      "\n",
      "\n",
      "ModelMetricsMultinomial: drf\n",
      "** Reported on train data. **\n",
      "\n",
      "MSE: 0.32658035546868247\n",
      "RMSE: 0.5714720950918623\n",
      "LogLoss: 2.580572802664398\n",
      "Mean Per-Class Error: 0.5966157248816008\n",
      "Confusion Matrix: Row labels: Actual class; Column labels: Predicted class\n",
      "\n"
     ]
    },
    {
     "data": {
      "text/html": [
       "<div style=\"overflow:auto\"><table style=\"width:50%\"><tr><td><b><30</b></td>\n",
       "<td><b>>30</b></td>\n",
       "<td><b>NO</b></td>\n",
       "<td><b>Error</b></td>\n",
       "<td><b>Rate</b></td></tr>\n",
       "<tr><td>335.0</td>\n",
       "<td>3211.0</td>\n",
       "<td>5525.0</td>\n",
       "<td>0.9630691</td>\n",
       "<td>8,736 / 9,071</td></tr>\n",
       "<tr><td>442.0</td>\n",
       "<td>10115.0</td>\n",
       "<td>17752.0</td>\n",
       "<td>0.6426931</td>\n",
       "<td>18,194 / 28,309</td></tr>\n",
       "<tr><td>335.0</td>\n",
       "<td>7764.0</td>\n",
       "<td>35897.0</td>\n",
       "<td>0.1840849</td>\n",
       "<td>8,099 / 43,996</td></tr>\n",
       "<tr><td>1112.0</td>\n",
       "<td>21090.0</td>\n",
       "<td>59174.0</td>\n",
       "<td>0.4304586</td>\n",
       "<td>35,029 / 81,376</td></tr></table></div>"
      ],
      "text/plain": [
       "<30    >30    NO     Error     Rate\n",
       "-----  -----  -----  --------  ---------------\n",
       "335    3211   5525   0.963069  8,736 / 9,071\n",
       "442    10115  17752  0.642693  18,194 / 28,309\n",
       "335    7764   35897  0.184085  8,099 / 43,996\n",
       "1112   21090  59174  0.430459  35,029 / 81,376"
      ]
     },
     "metadata": {},
     "output_type": "display_data"
    },
    {
     "name": "stdout",
     "output_type": "stream",
     "text": [
      "Top-3 Hit Ratios: \n"
     ]
    },
    {
     "data": {
      "text/html": [
       "<div style=\"overflow:auto\"><table style=\"width:50%\"><tr><td><b>k</b></td>\n",
       "<td><b>hit_ratio</b></td></tr>\n",
       "<tr><td>1</td>\n",
       "<td>0.5695414</td></tr>\n",
       "<tr><td>2</td>\n",
       "<td>0.8658327</td></tr>\n",
       "<tr><td>3</td>\n",
       "<td>1.0</td></tr></table></div>"
      ],
      "text/plain": [
       "k    hit_ratio\n",
       "---  -----------\n",
       "1    0.569541\n",
       "2    0.865833\n",
       "3    1"
      ]
     },
     "metadata": {},
     "output_type": "display_data"
    },
    {
     "name": "stdout",
     "output_type": "stream",
     "text": [
      "\n",
      "ModelMetricsMultinomial: drf\n",
      "** Reported on validation data. **\n",
      "\n",
      "MSE: 0.31356047819246036\n",
      "RMSE: 0.5599647115599878\n",
      "LogLoss: 0.9552816681283798\n",
      "Mean Per-Class Error: 0.5863303153948632\n",
      "Confusion Matrix: Row labels: Actual class; Column labels: Predicted class\n",
      "\n"
     ]
    },
    {
     "data": {
      "text/html": [
       "<div style=\"overflow:auto\"><table style=\"width:50%\"><tr><td><b><30</b></td>\n",
       "<td><b>>30</b></td>\n",
       "<td><b>NO</b></td>\n",
       "<td><b>Error</b></td>\n",
       "<td><b>Rate</b></td></tr>\n",
       "<tr><td>22.0</td>\n",
       "<td>447.0</td>\n",
       "<td>692.0</td>\n",
       "<td>0.9810508</td>\n",
       "<td>1,139 / 1,161</td></tr>\n",
       "<tr><td>28.0</td>\n",
       "<td>1358.0</td>\n",
       "<td>2175.0</td>\n",
       "<td>0.6186464</td>\n",
       "<td>2,203 / 3,561</td></tr>\n",
       "<tr><td>17.0</td>\n",
       "<td>840.0</td>\n",
       "<td>4523.0</td>\n",
       "<td>0.1592937</td>\n",
       "<td>857 / 5,380</td></tr>\n",
       "<tr><td>67.0</td>\n",
       "<td>2645.0</td>\n",
       "<td>7390.0</td>\n",
       "<td>0.4156603</td>\n",
       "<td>4,199 / 10,102</td></tr></table></div>"
      ],
      "text/plain": [
       "<30    >30    NO    Error     Rate\n",
       "-----  -----  ----  --------  --------------\n",
       "22     447    692   0.981051  1,139 / 1,161\n",
       "28     1358   2175  0.618646  2,203 / 3,561\n",
       "17     840    4523  0.159294  857 / 5,380\n",
       "67     2645   7390  0.41566   4,199 / 10,102"
      ]
     },
     "metadata": {},
     "output_type": "display_data"
    },
    {
     "name": "stdout",
     "output_type": "stream",
     "text": [
      "Top-3 Hit Ratios: \n"
     ]
    },
    {
     "data": {
      "text/html": [
       "<div style=\"overflow:auto\"><table style=\"width:50%\"><tr><td><b>k</b></td>\n",
       "<td><b>hit_ratio</b></td></tr>\n",
       "<tr><td>1</td>\n",
       "<td>0.5843397</td></tr>\n",
       "<tr><td>2</td>\n",
       "<td>0.8889329</td></tr>\n",
       "<tr><td>3</td>\n",
       "<td>1.0</td></tr></table></div>"
      ],
      "text/plain": [
       "k    hit_ratio\n",
       "---  -----------\n",
       "1    0.58434\n",
       "2    0.888933\n",
       "3    1"
      ]
     },
     "metadata": {},
     "output_type": "display_data"
    },
    {
     "name": "stdout",
     "output_type": "stream",
     "text": [
      "Scoring History: \n"
     ]
    },
    {
     "data": {
      "text/html": [
       "<div style=\"overflow:auto\"><table style=\"width:50%\"><tr><td><b></b></td>\n",
       "<td><b>timestamp</b></td>\n",
       "<td><b>duration</b></td>\n",
       "<td><b>number_of_trees</b></td>\n",
       "<td><b>training_rmse</b></td>\n",
       "<td><b>training_logloss</b></td>\n",
       "<td><b>training_classification_error</b></td>\n",
       "<td><b>validation_rmse</b></td>\n",
       "<td><b>validation_logloss</b></td>\n",
       "<td><b>validation_classification_error</b></td></tr>\n",
       "<tr><td></td>\n",
       "<td>2019-03-23 01:29:08</td>\n",
       "<td> 0.034 sec</td>\n",
       "<td>0.0</td>\n",
       "<td>nan</td>\n",
       "<td>nan</td>\n",
       "<td>nan</td>\n",
       "<td>nan</td>\n",
       "<td>nan</td>\n",
       "<td>nan</td></tr>\n",
       "<tr><td></td>\n",
       "<td>2019-03-23 01:29:08</td>\n",
       "<td> 0.787 sec</td>\n",
       "<td>1.0</td>\n",
       "<td>0.7498229</td>\n",
       "<td>17.7534856</td>\n",
       "<td>0.4728929</td>\n",
       "<td>0.7514561</td>\n",
       "<td>17.8405163</td>\n",
       "<td>0.5077212</td></tr>\n",
       "<tr><td></td>\n",
       "<td>2019-03-23 01:29:09</td>\n",
       "<td> 1.493 sec</td>\n",
       "<td>2.0</td>\n",
       "<td>0.7390116</td>\n",
       "<td>16.9545181</td>\n",
       "<td>0.4687511</td>\n",
       "<td>0.6557256</td>\n",
       "<td>10.9507502</td>\n",
       "<td>0.4800040</td></tr>\n",
       "<tr><td></td>\n",
       "<td>2019-03-23 01:29:10</td>\n",
       "<td> 2.215 sec</td>\n",
       "<td>3.0</td>\n",
       "<td>0.7305912</td>\n",
       "<td>16.3009381</td>\n",
       "<td>0.4658278</td>\n",
       "<td>0.6165743</td>\n",
       "<td>7.6346078</td>\n",
       "<td>0.4652544</td></tr>\n",
       "<tr><td></td>\n",
       "<td>2019-03-23 01:29:11</td>\n",
       "<td> 2.996 sec</td>\n",
       "<td>4.0</td>\n",
       "<td>0.7210758</td>\n",
       "<td>15.5641012</td>\n",
       "<td>0.4653082</td>\n",
       "<td>0.5969492</td>\n",
       "<td>5.7431604</td>\n",
       "<td>0.4549594</td></tr>\n",
       "<tr><td></td>\n",
       "<td>2019-03-23 01:29:11</td>\n",
       "<td> 3.800 sec</td>\n",
       "<td>5.0</td>\n",
       "<td>0.7117882</td>\n",
       "<td>14.8500572</td>\n",
       "<td>0.4634578</td>\n",
       "<td>0.5875273</td>\n",
       "<td>4.6100875</td>\n",
       "<td>0.4473372</td></tr>\n",
       "<tr><td></td>\n",
       "<td>2019-03-23 01:29:16</td>\n",
       "<td> 8.673 sec</td>\n",
       "<td>10.0</td>\n",
       "<td>0.6702303</td>\n",
       "<td>11.6000696</td>\n",
       "<td>0.4573134</td>\n",
       "<td>0.5703507</td>\n",
       "<td>2.3287859</td>\n",
       "<td>0.4357553</td></tr>\n",
       "<tr><td></td>\n",
       "<td>2019-03-23 01:29:21</td>\n",
       "<td>12.887 sec</td>\n",
       "<td>14.0</td>\n",
       "<td>0.6430906</td>\n",
       "<td>9.4177635</td>\n",
       "<td>0.4546062</td>\n",
       "<td>0.5668297</td>\n",
       "<td>1.7815317</td>\n",
       "<td>0.4287270</td></tr>\n",
       "<tr><td></td>\n",
       "<td>2019-03-23 01:29:25</td>\n",
       "<td>16.965 sec</td>\n",
       "<td>18.0</td>\n",
       "<td>0.6222401</td>\n",
       "<td>7.6764691</td>\n",
       "<td>0.4482461</td>\n",
       "<td>0.5648875</td>\n",
       "<td>1.4374421</td>\n",
       "<td>0.4247674</td></tr>\n",
       "<tr><td></td>\n",
       "<td>2019-03-23 01:29:29</td>\n",
       "<td>21.161 sec</td>\n",
       "<td>22.0</td>\n",
       "<td>0.6075139</td>\n",
       "<td>6.3576648</td>\n",
       "<td>0.4458504</td>\n",
       "<td>0.5633626</td>\n",
       "<td>1.2748622</td>\n",
       "<td>0.4197189</td></tr>\n",
       "<tr><td></td>\n",
       "<td>2019-03-23 01:29:33</td>\n",
       "<td>25.473 sec</td>\n",
       "<td>26.0</td>\n",
       "<td>0.5965194</td>\n",
       "<td>5.3193899</td>\n",
       "<td>0.4422743</td>\n",
       "<td>0.5625191</td>\n",
       "<td>1.1826942</td>\n",
       "<td>0.4199168</td></tr>\n",
       "<tr><td></td>\n",
       "<td>2019-03-23 01:29:45</td>\n",
       "<td>37.306 sec</td>\n",
       "<td>36.0</td>\n",
       "<td>0.5805975</td>\n",
       "<td>3.6417518</td>\n",
       "<td>0.4373709</td>\n",
       "<td>0.5613200</td>\n",
       "<td>1.0448884</td>\n",
       "<td>0.4188280</td></tr>\n",
       "<tr><td></td>\n",
       "<td>2019-03-23 01:29:49</td>\n",
       "<td>41.737 sec</td>\n",
       "<td>40.0</td>\n",
       "<td>0.5770202</td>\n",
       "<td>3.2335277</td>\n",
       "<td>0.4350097</td>\n",
       "<td>0.5607804</td>\n",
       "<td>1.0012961</td>\n",
       "<td>0.4199168</td></tr>\n",
       "<tr><td></td>\n",
       "<td>2019-03-23 01:29:54</td>\n",
       "<td>45.989 sec</td>\n",
       "<td>44.0</td>\n",
       "<td>0.5744205</td>\n",
       "<td>2.9210224</td>\n",
       "<td>0.4329622</td>\n",
       "<td>0.5605052</td>\n",
       "<td>0.9878933</td>\n",
       "<td>0.4187290</td></tr>\n",
       "<tr><td></td>\n",
       "<td>2019-03-23 01:29:59</td>\n",
       "<td>51.383 sec</td>\n",
       "<td>49.0</td>\n",
       "<td>0.5719058</td>\n",
       "<td>2.6288361</td>\n",
       "<td>0.4308326</td>\n",
       "<td>0.5600919</td>\n",
       "<td>0.9590091</td>\n",
       "<td>0.4162542</td></tr>\n",
       "<tr><td></td>\n",
       "<td>2019-03-23 01:30:01</td>\n",
       "<td>52.944 sec</td>\n",
       "<td>50.0</td>\n",
       "<td>0.5714721</td>\n",
       "<td>2.5805728</td>\n",
       "<td>0.4304586</td>\n",
       "<td>0.5599647</td>\n",
       "<td>0.9552817</td>\n",
       "<td>0.4156603</td></tr></table></div>"
      ],
      "text/plain": [
       "    timestamp            duration    number_of_trees    training_rmse    training_logloss    training_classification_error    validation_rmse    validation_logloss    validation_classification_error\n",
       "--  -------------------  ----------  -----------------  ---------------  ------------------  -------------------------------  -----------------  --------------------  ---------------------------------\n",
       "    2019-03-23 01:29:08  0.034 sec   0                  nan              nan                 nan                              nan                nan                   nan\n",
       "    2019-03-23 01:29:08  0.787 sec   1                  0.749823         17.7535             0.472893                         0.751456           17.8405               0.507721\n",
       "    2019-03-23 01:29:09  1.493 sec   2                  0.739012         16.9545             0.468751                         0.655726           10.9508               0.480004\n",
       "    2019-03-23 01:29:10  2.215 sec   3                  0.730591         16.3009             0.465828                         0.616574           7.63461               0.465254\n",
       "    2019-03-23 01:29:11  2.996 sec   4                  0.721076         15.5641             0.465308                         0.596949           5.74316               0.454959\n",
       "    2019-03-23 01:29:11  3.800 sec   5                  0.711788         14.8501             0.463458                         0.587527           4.61009               0.447337\n",
       "    2019-03-23 01:29:16  8.673 sec   10                 0.67023          11.6001             0.457313                         0.570351           2.32879               0.435755\n",
       "    2019-03-23 01:29:21  12.887 sec  14                 0.643091         9.41776             0.454606                         0.56683            1.78153               0.428727\n",
       "    2019-03-23 01:29:25  16.965 sec  18                 0.62224          7.67647             0.448246                         0.564888           1.43744               0.424767\n",
       "    2019-03-23 01:29:29  21.161 sec  22                 0.607514         6.35766             0.44585                          0.563363           1.27486               0.419719\n",
       "    2019-03-23 01:29:33  25.473 sec  26                 0.596519         5.31939             0.442274                         0.562519           1.18269               0.419917\n",
       "    2019-03-23 01:29:45  37.306 sec  36                 0.580597         3.64175             0.437371                         0.56132            1.04489               0.418828\n",
       "    2019-03-23 01:29:49  41.737 sec  40                 0.57702          3.23353             0.43501                          0.56078            1.0013                0.419917\n",
       "    2019-03-23 01:29:54  45.989 sec  44                 0.574421         2.92102             0.432962                         0.560505           0.987893              0.418729\n",
       "    2019-03-23 01:29:59  51.383 sec  49                 0.571906         2.62884             0.430833                         0.560092           0.959009              0.416254\n",
       "    2019-03-23 01:30:01  52.944 sec  50                 0.571472         2.58057             0.430459                         0.559965           0.955282              0.41566"
      ]
     },
     "metadata": {},
     "output_type": "display_data"
    },
    {
     "name": "stdout",
     "output_type": "stream",
     "text": [
      "Variable Importances: \n"
     ]
    },
    {
     "data": {
      "text/html": [
       "<div style=\"overflow:auto\"><table style=\"width:50%\"><tr><td><b>variable</b></td>\n",
       "<td><b>relative_importance</b></td>\n",
       "<td><b>scaled_importance</b></td>\n",
       "<td><b>percentage</b></td></tr>\n",
       "<tr><td>diag_1</td>\n",
       "<td>359608.9062500</td>\n",
       "<td>1.0</td>\n",
       "<td>0.1992343</td></tr>\n",
       "<tr><td>diag_2</td>\n",
       "<td>334691.5937500</td>\n",
       "<td>0.9307100</td>\n",
       "<td>0.1854294</td></tr>\n",
       "<tr><td>diag_3</td>\n",
       "<td>333788.1875000</td>\n",
       "<td>0.9281978</td>\n",
       "<td>0.1849289</td></tr>\n",
       "<tr><td>medical_specialty</td>\n",
       "<td>75228.3984375</td>\n",
       "<td>0.2091950</td>\n",
       "<td>0.0416788</td></tr>\n",
       "<tr><td>discharge_disposition_id</td>\n",
       "<td>73522.8437500</td>\n",
       "<td>0.2044522</td>\n",
       "<td>0.0407339</td></tr>\n",
       "<tr><td>---</td>\n",
       "<td>---</td>\n",
       "<td>---</td>\n",
       "<td>---</td></tr>\n",
       "<tr><td>acetohexamide</td>\n",
       "<td>8.6069517</td>\n",
       "<td>0.0000239</td>\n",
       "<td>0.0000048</td></tr>\n",
       "<tr><td>troglitazone</td>\n",
       "<td>5.6771250</td>\n",
       "<td>0.0000158</td>\n",
       "<td>0.0000031</td></tr>\n",
       "<tr><td>metformin-rosiglitazone</td>\n",
       "<td>2.7985322</td>\n",
       "<td>0.0000078</td>\n",
       "<td>0.0000016</td></tr>\n",
       "<tr><td>metformin-pioglitazone</td>\n",
       "<td>2.6670983</td>\n",
       "<td>0.0000074</td>\n",
       "<td>0.0000015</td></tr>\n",
       "<tr><td>glimepiride-pioglitazone</td>\n",
       "<td>0.1906782</td>\n",
       "<td>0.0000005</td>\n",
       "<td>0.0000001</td></tr></table></div>"
      ],
      "text/plain": [
       "variable                  relative_importance    scaled_importance       percentage\n",
       "------------------------  ---------------------  ----------------------  ----------------------\n",
       "diag_1                    359608.90625           1.0                     0.19923431769202782\n",
       "diag_2                    334691.59375           0.9307099683379991      0.18542936551099007\n",
       "diag_3                    333788.1875            0.9281977773596924      0.18492885085551505\n",
       "medical_specialty         75228.3984375          0.209195036969416       0.04167883045516013\n",
       "discharge_disposition_id  73522.84375            0.20445223261207815     0.040733901065079146\n",
       "---                       ---                    ---                     ---\n",
       "acetohexamide             8.606951713562012      2.3934200638452658e-05  4.768514133706212e-06\n",
       "troglitazone              5.677124977111816      1.5786942087482895e-05  3.145300635243212e-06\n",
       "metformin-rosiglitazone   2.798532247543335      7.782154999236298e-06   1.550472341446447e-06\n",
       "metformin-pioglitazone    2.6670982837677        7.416663595960925e-06   1.4776539110925763e-06\n",
       "glimepiride-pioglitazone  0.1906781941652298     5.302376855835444e-07   1.0564154350183744e-07"
      ]
     },
     "metadata": {},
     "output_type": "display_data"
    },
    {
     "name": "stdout",
     "output_type": "stream",
     "text": [
      "\n",
      "See the whole table with table.as_data_frame()\n"
     ]
    },
    {
     "data": {
      "text/plain": []
     },
     "execution_count": 26,
     "metadata": {},
     "output_type": "execute_result"
    }
   ],
   "source": [
    "best_rf "
   ]
  },
  {
   "cell_type": "code",
   "execution_count": 26,
   "metadata": {},
   "outputs": [
    {
     "name": "stdout",
     "output_type": "stream",
     "text": [
      "Model Details\n",
      "=============\n",
      "H2OGradientBoostingEstimator :  Gradient Boosting Machine\n",
      "Model Key:  gbm_grid1_model_3\n",
      "\n",
      "\n",
      "ModelMetricsMultinomial: gbm\n",
      "** Reported on train data. **\n",
      "\n",
      "MSE: 0.21065996258124522\n",
      "RMSE: 0.45897708284972705\n",
      "LogLoss: 0.6145000177691974\n",
      "Mean Per-Class Error: 0.3548623756570104\n",
      "Confusion Matrix: Row labels: Actual class; Column labels: Predicted class\n",
      "\n"
     ]
    },
    {
     "data": {
      "text/html": [
       "<div style=\"overflow:auto\"><table style=\"width:50%\"><tr><td><b><30</b></td>\n",
       "<td><b>>30</b></td>\n",
       "<td><b>NO</b></td>\n",
       "<td><b>Error</b></td>\n",
       "<td><b>Rate</b></td></tr>\n",
       "<tr><td>3155.0</td>\n",
       "<td>2273.0</td>\n",
       "<td>3643.0</td>\n",
       "<td>0.6521883</td>\n",
       "<td>5,916 / 9,071</td></tr>\n",
       "<tr><td>27.0</td>\n",
       "<td>18750.0</td>\n",
       "<td>9532.0</td>\n",
       "<td>0.3376665</td>\n",
       "<td>9,559 / 28,309</td></tr>\n",
       "<tr><td>19.0</td>\n",
       "<td>3269.0</td>\n",
       "<td>40709.0</td>\n",
       "<td>0.0747324</td>\n",
       "<td>3,288 / 43,997</td></tr>\n",
       "<tr><td>3201.0</td>\n",
       "<td>24292.0</td>\n",
       "<td>53884.0</td>\n",
       "<td>0.2305688</td>\n",
       "<td>18,763 / 81,377</td></tr></table></div>"
      ],
      "text/plain": [
       "<30    >30    NO     Error      Rate\n",
       "-----  -----  -----  ---------  ---------------\n",
       "3155   2273   3643   0.652188   5,916 / 9,071\n",
       "27     18750  9532   0.337666   9,559 / 28,309\n",
       "19     3269   40709  0.0747324  3,288 / 43,997\n",
       "3201   24292  53884  0.230569   18,763 / 81,377"
      ]
     },
     "metadata": {},
     "output_type": "display_data"
    },
    {
     "name": "stdout",
     "output_type": "stream",
     "text": [
      "Top-3 Hit Ratios: \n"
     ]
    },
    {
     "data": {
      "text/html": [
       "<div style=\"overflow:auto\"><table style=\"width:50%\"><tr><td><b>k</b></td>\n",
       "<td><b>hit_ratio</b></td></tr>\n",
       "<tr><td>1</td>\n",
       "<td>0.7694312</td></tr>\n",
       "<tr><td>2</td>\n",
       "<td>0.9451319</td></tr>\n",
       "<tr><td>3</td>\n",
       "<td>1.0</td></tr></table></div>"
      ],
      "text/plain": [
       "k    hit_ratio\n",
       "---  -----------\n",
       "1    0.769431\n",
       "2    0.945132\n",
       "3    1"
      ]
     },
     "metadata": {},
     "output_type": "display_data"
    },
    {
     "name": "stdout",
     "output_type": "stream",
     "text": [
      "\n",
      "ModelMetricsMultinomial: gbm\n",
      "** Reported on validation data. **\n",
      "\n",
      "MSE: 0.3158629220264905\n",
      "RMSE: 0.5620168342910117\n",
      "LogLoss: 0.8820410148762089\n",
      "Mean Per-Class Error: 0.5790187970694485\n",
      "Confusion Matrix: Row labels: Actual class; Column labels: Predicted class\n",
      "\n"
     ]
    },
    {
     "data": {
      "text/html": [
       "<div style=\"overflow:auto\"><table style=\"width:50%\"><tr><td><b><30</b></td>\n",
       "<td><b>>30</b></td>\n",
       "<td><b>NO</b></td>\n",
       "<td><b>Error</b></td>\n",
       "<td><b>Rate</b></td></tr>\n",
       "<tr><td>38.0</td>\n",
       "<td>438.0</td>\n",
       "<td>685.0</td>\n",
       "<td>0.9672696</td>\n",
       "<td>1,123 / 1,161</td></tr>\n",
       "<tr><td>28.0</td>\n",
       "<td>1438.0</td>\n",
       "<td>2095.0</td>\n",
       "<td>0.5961808</td>\n",
       "<td>2,123 / 3,561</td></tr>\n",
       "<tr><td>27.0</td>\n",
       "<td>907.0</td>\n",
       "<td>4446.0</td>\n",
       "<td>0.1736059</td>\n",
       "<td>934 / 5,380</td></tr>\n",
       "<tr><td>93.0</td>\n",
       "<td>2783.0</td>\n",
       "<td>7226.0</td>\n",
       "<td>0.4137794</td>\n",
       "<td>4,180 / 10,102</td></tr></table></div>"
      ],
      "text/plain": [
       "<30    >30    NO    Error     Rate\n",
       "-----  -----  ----  --------  --------------\n",
       "38     438    685   0.96727   1,123 / 1,161\n",
       "28     1438   2095  0.596181  2,123 / 3,561\n",
       "27     907    4446  0.173606  934 / 5,380\n",
       "93     2783   7226  0.413779  4,180 / 10,102"
      ]
     },
     "metadata": {},
     "output_type": "display_data"
    },
    {
     "name": "stdout",
     "output_type": "stream",
     "text": [
      "Top-3 Hit Ratios: \n"
     ]
    },
    {
     "data": {
      "text/html": [
       "<div style=\"overflow:auto\"><table style=\"width:50%\"><tr><td><b>k</b></td>\n",
       "<td><b>hit_ratio</b></td></tr>\n",
       "<tr><td>1</td>\n",
       "<td>0.5862206</td></tr>\n",
       "<tr><td>2</td>\n",
       "<td>0.8910117</td></tr>\n",
       "<tr><td>3</td>\n",
       "<td>1.0</td></tr></table></div>"
      ],
      "text/plain": [
       "k    hit_ratio\n",
       "---  -----------\n",
       "1    0.586221\n",
       "2    0.891012\n",
       "3    1"
      ]
     },
     "metadata": {},
     "output_type": "display_data"
    },
    {
     "name": "stdout",
     "output_type": "stream",
     "text": [
      "Scoring History: \n"
     ]
    },
    {
     "data": {
      "text/html": [
       "<div style=\"overflow:auto\"><table style=\"width:50%\"><tr><td><b></b></td>\n",
       "<td><b>timestamp</b></td>\n",
       "<td><b>duration</b></td>\n",
       "<td><b>number_of_trees</b></td>\n",
       "<td><b>training_rmse</b></td>\n",
       "<td><b>training_logloss</b></td>\n",
       "<td><b>training_classification_error</b></td>\n",
       "<td><b>validation_rmse</b></td>\n",
       "<td><b>validation_logloss</b></td>\n",
       "<td><b>validation_classification_error</b></td></tr>\n",
       "<tr><td></td>\n",
       "<td>2019-03-23 00:31:24</td>\n",
       "<td>14.770 sec</td>\n",
       "<td>0.0</td>\n",
       "<td>0.6666667</td>\n",
       "<td>1.0986123</td>\n",
       "<td>0.5745972</td>\n",
       "<td>0.6666667</td>\n",
       "<td>1.0986123</td>\n",
       "<td>0.5751336</td></tr>\n",
       "<tr><td></td>\n",
       "<td>2019-03-23 00:31:24</td>\n",
       "<td>15.023 sec</td>\n",
       "<td>1.0</td>\n",
       "<td>0.6512182</td>\n",
       "<td>1.0541188</td>\n",
       "<td>0.3887585</td>\n",
       "<td>0.6539440</td>\n",
       "<td>1.0620566</td>\n",
       "<td>0.4360523</td></tr>\n",
       "<tr><td></td>\n",
       "<td>2019-03-23 00:31:24</td>\n",
       "<td>15.169 sec</td>\n",
       "<td>2.0</td>\n",
       "<td>0.6372166</td>\n",
       "<td>1.0162525</td>\n",
       "<td>0.3789400</td>\n",
       "<td>0.6425562</td>\n",
       "<td>1.0313887</td>\n",
       "<td>0.4287270</td></tr>\n",
       "<tr><td></td>\n",
       "<td>2019-03-23 00:31:24</td>\n",
       "<td>15.323 sec</td>\n",
       "<td>3.0</td>\n",
       "<td>0.6240506</td>\n",
       "<td>0.9824376</td>\n",
       "<td>0.3683596</td>\n",
       "<td>0.6323638</td>\n",
       "<td>1.0055570</td>\n",
       "<td>0.4244704</td></tr>\n",
       "<tr><td></td>\n",
       "<td>2019-03-23 00:31:24</td>\n",
       "<td>15.476 sec</td>\n",
       "<td>4.0</td>\n",
       "<td>0.6134970</td>\n",
       "<td>0.9564034</td>\n",
       "<td>0.3659019</td>\n",
       "<td>0.6244158</td>\n",
       "<td>0.9863276</td>\n",
       "<td>0.4242724</td></tr>\n",
       "<tr><td>---</td>\n",
       "<td>---</td>\n",
       "<td>---</td>\n",
       "<td>---</td>\n",
       "<td>---</td>\n",
       "<td>---</td>\n",
       "<td>---</td>\n",
       "<td>---</td>\n",
       "<td>---</td>\n",
       "<td>---</td></tr>\n",
       "<tr><td></td>\n",
       "<td>2019-03-23 00:31:27</td>\n",
       "<td>18.295 sec</td>\n",
       "<td>26.0</td>\n",
       "<td>0.5047058</td>\n",
       "<td>0.7146517</td>\n",
       "<td>0.2879806</td>\n",
       "<td>0.5681703</td>\n",
       "<td>0.8812367</td>\n",
       "<td>0.4156603</td></tr>\n",
       "<tr><td></td>\n",
       "<td>2019-03-23 00:31:27</td>\n",
       "<td>18.413 sec</td>\n",
       "<td>27.0</td>\n",
       "<td>0.5021475</td>\n",
       "<td>0.7090699</td>\n",
       "<td>0.2848716</td>\n",
       "<td>0.5675579</td>\n",
       "<td>0.8806144</td>\n",
       "<td>0.4159572</td></tr>\n",
       "<tr><td></td>\n",
       "<td>2019-03-23 00:31:28</td>\n",
       "<td>18.557 sec</td>\n",
       "<td>28.0</td>\n",
       "<td>0.5001099</td>\n",
       "<td>0.7047159</td>\n",
       "<td>0.2825245</td>\n",
       "<td>0.5672015</td>\n",
       "<td>0.8806553</td>\n",
       "<td>0.4164522</td></tr>\n",
       "<tr><td></td>\n",
       "<td>2019-03-23 00:31:28</td>\n",
       "<td>18.679 sec</td>\n",
       "<td>29.0</td>\n",
       "<td>0.4980955</td>\n",
       "<td>0.7002332</td>\n",
       "<td>0.2804847</td>\n",
       "<td>0.5668353</td>\n",
       "<td>0.8807038</td>\n",
       "<td>0.4158582</td></tr>\n",
       "<tr><td></td>\n",
       "<td>2019-03-23 00:31:30</td>\n",
       "<td>20.949 sec</td>\n",
       "<td>50.0</td>\n",
       "<td>0.4589771</td>\n",
       "<td>0.6145000</td>\n",
       "<td>0.2305688</td>\n",
       "<td>0.5620168</td>\n",
       "<td>0.8820410</td>\n",
       "<td>0.4137794</td></tr></table></div>"
      ],
      "text/plain": [
       "     timestamp            duration    number_of_trees    training_rmse        training_logloss    training_classification_error    validation_rmse     validation_logloss    validation_classification_error\n",
       "---  -------------------  ----------  -----------------  -------------------  ------------------  -------------------------------  ------------------  --------------------  ---------------------------------\n",
       "     2019-03-23 00:31:24  14.770 sec  0.0                0.6666666666666099   1.098612288667976   0.5745972449217838               0.6666666666666744  1.0986122886681478    0.5751336369035834\n",
       "     2019-03-23 00:31:24  15.023 sec  1.0                0.6512181521558791   1.0541187676592783  0.3887584944148838               0.6539439632199108  1.06205658926557      0.436052266877846\n",
       "     2019-03-23 00:31:24  15.169 sec  2.0                0.6372165603312548   1.01625249947233    0.3789399953303759               0.6425562422457097  1.0313887222394074    0.428726984755494\n",
       "     2019-03-23 00:31:24  15.323 sec  3.0                0.624050613198859    0.9824376166757911  0.3683596102092729               0.6323638055744203  1.0055569858015907    0.42447040190061375\n",
       "     2019-03-23 00:31:24  15.476 sec  4.0                0.613497036981408    0.9564033736263374  0.3659019133170306               0.624415830072312   0.9863276407055322    0.4242724213027123\n",
       "---  ---                  ---         ---                ---                  ---                 ---                              ---                 ---                   ---\n",
       "     2019-03-23 00:31:27  18.295 sec  26.0               0.5047057649250182   0.7146516835351981  0.2879806333484891               0.5681703116051491  0.8812366973619844    0.4156602652940012\n",
       "     2019-03-23 00:31:27  18.413 sec  27.0               0.5021474865508407   0.7090698712699929  0.28487164677980265              0.5675578615605328  0.8806144081608439    0.4159572361908533\n",
       "     2019-03-23 00:31:28  18.557 sec  28.0               0.5001099106086273   0.7047159188921506  0.2825245462477113               0.567201452843961   0.8806552897923411    0.4164521876856068\n",
       "     2019-03-23 00:31:28  18.679 sec  29.0               0.49809550365973976  0.7002332057818101  0.28048465782715015              0.5668353426131859  0.880703798957534     0.41585824589190257\n",
       "     2019-03-23 00:31:30  20.949 sec  50.0               0.45897708284972705  0.6145000177691974  0.23056883394570948              0.5620168342910117  0.8820410148762089    0.4137794496139378"
      ]
     },
     "metadata": {},
     "output_type": "display_data"
    },
    {
     "name": "stdout",
     "output_type": "stream",
     "text": [
      "\n",
      "See the whole table with table.as_data_frame()\n",
      "Variable Importances: \n"
     ]
    },
    {
     "data": {
      "text/html": [
       "<div style=\"overflow:auto\"><table style=\"width:50%\"><tr><td><b>variable</b></td>\n",
       "<td><b>relative_importance</b></td>\n",
       "<td><b>scaled_importance</b></td>\n",
       "<td><b>percentage</b></td></tr>\n",
       "<tr><td>diag_1</td>\n",
       "<td>22092.6503906</td>\n",
       "<td>1.0</td>\n",
       "<td>0.2713572</td></tr>\n",
       "<tr><td>diag_3</td>\n",
       "<td>19455.0605469</td>\n",
       "<td>0.8806123</td>\n",
       "<td>0.2389605</td></tr>\n",
       "<tr><td>diag_2</td>\n",
       "<td>18220.2773438</td>\n",
       "<td>0.8247212</td>\n",
       "<td>0.2237940</td></tr>\n",
       "<tr><td>number_inpatient</td>\n",
       "<td>6025.6474609</td>\n",
       "<td>0.2727444</td>\n",
       "<td>0.0740112</td></tr>\n",
       "<tr><td>discharge_disposition_id</td>\n",
       "<td>4548.3085938</td>\n",
       "<td>0.2058743</td>\n",
       "<td>0.0558655</td></tr>\n",
       "<tr><td>---</td>\n",
       "<td>---</td>\n",
       "<td>---</td>\n",
       "<td>---</td></tr>\n",
       "<tr><td>tolazamide</td>\n",
       "<td>0.0</td>\n",
       "<td>0.0</td>\n",
       "<td>0.0</td></tr>\n",
       "<tr><td>glipizide-metformin</td>\n",
       "<td>0.0</td>\n",
       "<td>0.0</td>\n",
       "<td>0.0</td></tr>\n",
       "<tr><td>glimepiride-pioglitazone</td>\n",
       "<td>0.0</td>\n",
       "<td>0.0</td>\n",
       "<td>0.0</td></tr>\n",
       "<tr><td>metformin-rosiglitazone</td>\n",
       "<td>0.0</td>\n",
       "<td>0.0</td>\n",
       "<td>0.0</td></tr>\n",
       "<tr><td>metformin-pioglitazone</td>\n",
       "<td>0.0</td>\n",
       "<td>0.0</td>\n",
       "<td>0.0</td></tr></table></div>"
      ],
      "text/plain": [
       "variable                  relative_importance    scaled_importance    percentage\n",
       "------------------------  ---------------------  -------------------  --------------------\n",
       "diag_1                    22092.650390625        1.0                  0.2713571913169695\n",
       "diag_3                    19455.060546875        0.8806123395285674   0.23896049109353756\n",
       "diag_2                    18220.27734375         0.824721209162019    0.2237940309377404\n",
       "number_inpatient          6025.6474609375        0.2727444355655254   0.07401116398239314\n",
       "discharge_disposition_id  4548.30859375          0.20587428458470838  0.055865467629296936\n",
       "---                       ---                    ---                  ---\n",
       "tolazamide                0.0                    0.0                  0.0\n",
       "glipizide-metformin       0.0                    0.0                  0.0\n",
       "glimepiride-pioglitazone  0.0                    0.0                  0.0\n",
       "metformin-rosiglitazone   0.0                    0.0                  0.0\n",
       "metformin-pioglitazone    0.0                    0.0                  0.0"
      ]
     },
     "metadata": {},
     "output_type": "display_data"
    },
    {
     "name": "stdout",
     "output_type": "stream",
     "text": [
      "\n",
      "See the whole table with table.as_data_frame()\n"
     ]
    },
    {
     "data": {
      "text/plain": []
     },
     "execution_count": 45,
     "metadata": {},
     "output_type": "execute_result"
    }
   ],
   "source": [
    "best_gbm "
   ]
  },
  {
   "cell_type": "markdown",
   "metadata": {},
   "source": [
    "GB seems to overfit and DRF underfit. We will investigate later."
   ]
  },
  {
   "cell_type": "code",
   "execution_count": 46,
   "metadata": {},
   "outputs": [
    {
     "name": "stdout",
     "output_type": "stream",
     "text": [
      "gbm prediction progress: |████████████████████████████████████████████████| 100%\n",
      "drf prediction progress: |████████████████████████████████████████████████| 100%\n"
     ]
    }
   ],
   "source": [
    "pred_gbm = best_gbm.predict(valid)\n",
    "pred_rf = best_rf.predict(valid)"
   ]
  },
  {
   "cell_type": "code",
   "execution_count": 47,
   "metadata": {},
   "outputs": [],
   "source": [
    "td = valid.as_data_frame()\n",
    "td2 = valid.as_data_frame()"
   ]
  },
  {
   "cell_type": "code",
   "execution_count": 48,
   "metadata": {},
   "outputs": [
    {
     "name": "stdout",
     "output_type": "stream",
     "text": [
      "0.5844387250049495 0\n",
      "0.5848346862007523 1\n",
      "0.5857255988913086 2\n",
      "0.5864185309839636 3\n",
      "0.586616511581865 4\n",
      "0.5868144921797663 5\n",
      "0.5868144921797663 6\n",
      "0.5862205503860621 7\n",
      "0.5869134824787171 8\n",
      "0.5872104533755692 9\n",
      "0.5880023757671748 10\n",
      "0.5874084339734706 11\n",
      "0.5874084339734706 12\n",
      "0.5878043951692734 13\n",
      "0.5865175212829142 14\n",
      "0.5864185309839636 15\n",
      "0.5878043951692734 16\n",
      "0.588596317560879 17\n",
      "0.5870124727776678 18\n",
      "0.5868144921797663 19\n",
      "0.5862205503860621 20\n"
     ]
    }
   ],
   "source": [
    "for i in range(0,21):\n",
    "    pred = i/20*pred_gbm + (1-i/20)*pred_rf\n",
    "    pred1= pred.as_data_frame()\n",
    "    p1 = pred1.iloc[:, 1:]\n",
    "    td.iloc[td.index[p1['NO'] == np.amax(p1.values, axis=1)],-1] = 'NO'\n",
    "    td.iloc[td.index[p1['>30'] == np.amax(p1.values, axis=1)],-1] = '>30'\n",
    "    td.iloc[td.index[p1['<30'] == np.amax(p1.values, axis=1)],-1] = '<30'\n",
    "    print((((td2 == td)['readmitted']).sum())/(td2['readmitted'].count()), i)"
   ]
  },
  {
   "cell_type": "markdown",
   "metadata": {},
   "source": [
    "## Feature Engineering and Selection\n",
    "\n",
    "Let's look at feature importance first up"
   ]
  },
  {
   "cell_type": "code",
   "execution_count": 49,
   "metadata": {},
   "outputs": [
    {
     "data": {
      "image/png": "[encoded data removed]",
      "text/plain": [
       "<Figure size 1008x720 with 1 Axes>"
      ]
     },
     "metadata": {},
     "output_type": "display_data"
    }
   ],
   "source": [
    "best_gbm.varimp_plot()"
   ]
  },
  {
   "cell_type": "markdown",
   "metadata": {},
   "source": [
    "The diagnoses appear to be very important, however there are 900+ unique values for each which leads to massive overfit potential. Let's try without these."
   ]
  },
  {
   "cell_type": "code",
   "execution_count": 50,
   "metadata": {},
   "outputs": [
    {
     "name": "stdout",
     "output_type": "stream",
     "text": [
      "gbm Model Build progress: |███████████████████████████████████████████████| 100%\n"
     ]
    }
   ],
   "source": [
    "best_gbm.train(list(set(train.col_names) - set(['readmitted','diag_1', 'diag_2', 'diag_3'])), covtype_y,\n",
    "                training_frame=train,\n",
    "                validation_frame=valid)\n"
   ]
  },
  {
   "cell_type": "code",
   "execution_count": 51,
   "metadata": {},
   "outputs": [
    {
     "name": "stdout",
     "output_type": "stream",
     "text": [
      "Model Details\n",
      "=============\n",
      "H2OGradientBoostingEstimator :  Gradient Boosting Machine\n",
      "Model Key:  GBM_model_python_1553284516351_1\n",
      "\n",
      "\n",
      "ModelMetricsMultinomial: gbm\n",
      "** Reported on train data. **\n",
      "\n",
      "MSE: 0.3068433721025032\n",
      "RMSE: 0.5539344474777708\n",
      "LogLoss: 0.8459630969996649\n",
      "Mean Per-Class Error: 0.56834166711242\n",
      "Confusion Matrix: Row labels: Actual class; Column labels: Predicted class\n",
      "\n"
     ]
    },
    {
     "data": {
      "text/html": [
       "<div style=\"overflow:auto\"><table style=\"width:50%\"><tr><td><b><30</b></td>\n",
       "<td><b>>30</b></td>\n",
       "<td><b>NO</b></td>\n",
       "<td><b>Error</b></td>\n",
       "<td><b>Rate</b></td></tr>\n",
       "<tr><td>500.0</td>\n",
       "<td>3219.0</td>\n",
       "<td>5352.0</td>\n",
       "<td>0.9448793</td>\n",
       "<td>8,571 / 9,071</td></tr>\n",
       "<tr><td>119.0</td>\n",
       "<td>10520.0</td>\n",
       "<td>17670.0</td>\n",
       "<td>0.6283867</td>\n",
       "<td>17,789 / 28,309</td></tr>\n",
       "<tr><td>69.0</td>\n",
       "<td>5728.0</td>\n",
       "<td>38200.0</td>\n",
       "<td>0.1317590</td>\n",
       "<td>5,797 / 43,997</td></tr>\n",
       "<tr><td>688.0</td>\n",
       "<td>19467.0</td>\n",
       "<td>61222.0</td>\n",
       "<td>0.3951608</td>\n",
       "<td>32,157 / 81,377</td></tr></table></div>"
      ],
      "text/plain": [
       "<30    >30    NO     Error     Rate\n",
       "-----  -----  -----  --------  ---------------\n",
       "500    3219   5352   0.944879  8,571 / 9,071\n",
       "119    10520  17670  0.628387  17,789 / 28,309\n",
       "69     5728   38200  0.131759  5,797 / 43,997\n",
       "688    19467  61222  0.395161  32,157 / 81,377"
      ]
     },
     "metadata": {},
     "output_type": "display_data"
    },
    {
     "name": "stdout",
     "output_type": "stream",
     "text": [
      "Top-3 Hit Ratios: \n"
     ]
    },
    {
     "data": {
      "text/html": [
       "<div style=\"overflow:auto\"><table style=\"width:50%\"><tr><td><b>k</b></td>\n",
       "<td><b>hit_ratio</b></td></tr>\n",
       "<tr><td>1</td>\n",
       "<td>0.6048392</td></tr>\n",
       "<tr><td>2</td>\n",
       "<td>0.9005861</td></tr>\n",
       "<tr><td>3</td>\n",
       "<td>1.0</td></tr></table></div>"
      ],
      "text/plain": [
       "k    hit_ratio\n",
       "---  -----------\n",
       "1    0.604839\n",
       "2    0.900586\n",
       "3    1"
      ]
     },
     "metadata": {},
     "output_type": "display_data"
    },
    {
     "name": "stdout",
     "output_type": "stream",
     "text": [
      "\n",
      "ModelMetricsMultinomial: gbm\n",
      "** Reported on validation data. **\n",
      "\n",
      "MSE: 0.31773299302222585\n",
      "RMSE: 0.5636780934382902\n",
      "LogLoss: 0.8738053258299059\n",
      "Mean Per-Class Error: 0.5837661164912307\n",
      "Confusion Matrix: Row labels: Actual class; Column labels: Predicted class\n",
      "\n"
     ]
    },
    {
     "data": {
      "text/html": [
       "<div style=\"overflow:auto\"><table style=\"width:50%\"><tr><td><b><30</b></td>\n",
       "<td><b>>30</b></td>\n",
       "<td><b>NO</b></td>\n",
       "<td><b>Error</b></td>\n",
       "<td><b>Rate</b></td></tr>\n",
       "<tr><td>38.0</td>\n",
       "<td>430.0</td>\n",
       "<td>693.0</td>\n",
       "<td>0.9672696</td>\n",
       "<td>1,123 / 1,161</td></tr>\n",
       "<tr><td>25.0</td>\n",
       "<td>1288.0</td>\n",
       "<td>2248.0</td>\n",
       "<td>0.6383038</td>\n",
       "<td>2,273 / 3,561</td></tr>\n",
       "<tr><td>16.0</td>\n",
       "<td>768.0</td>\n",
       "<td>4596.0</td>\n",
       "<td>0.1457249</td>\n",
       "<td>784 / 5,380</td></tr>\n",
       "<tr><td>79.0</td>\n",
       "<td>2486.0</td>\n",
       "<td>7537.0</td>\n",
       "<td>0.4137794</td>\n",
       "<td>4,180 / 10,102</td></tr></table></div>"
      ],
      "text/plain": [
       "<30    >30    NO    Error     Rate\n",
       "-----  -----  ----  --------  --------------\n",
       "38     430    693   0.96727   1,123 / 1,161\n",
       "25     1288   2248  0.638304  2,273 / 3,561\n",
       "16     768    4596  0.145725  784 / 5,380\n",
       "79     2486   7537  0.413779  4,180 / 10,102"
      ]
     },
     "metadata": {},
     "output_type": "display_data"
    },
    {
     "name": "stdout",
     "output_type": "stream",
     "text": [
      "Top-3 Hit Ratios: \n"
     ]
    },
    {
     "data": {
      "text/html": [
       "<div style=\"overflow:auto\"><table style=\"width:50%\"><tr><td><b>k</b></td>\n",
       "<td><b>hit_ratio</b></td></tr>\n",
       "<tr><td>1</td>\n",
       "<td>0.5862206</td></tr>\n",
       "<tr><td>2</td>\n",
       "<td>0.8951693</td></tr>\n",
       "<tr><td>3</td>\n",
       "<td>1.0</td></tr></table></div>"
      ],
      "text/plain": [
       "k    hit_ratio\n",
       "---  -----------\n",
       "1    0.586221\n",
       "2    0.895169\n",
       "3    1"
      ]
     },
     "metadata": {},
     "output_type": "display_data"
    },
    {
     "name": "stdout",
     "output_type": "stream",
     "text": [
      "Scoring History: \n"
     ]
    },
    {
     "data": {
      "text/html": [
       "<div style=\"overflow:auto\"><table style=\"width:50%\"><tr><td><b></b></td>\n",
       "<td><b>timestamp</b></td>\n",
       "<td><b>duration</b></td>\n",
       "<td><b>number_of_trees</b></td>\n",
       "<td><b>training_rmse</b></td>\n",
       "<td><b>training_logloss</b></td>\n",
       "<td><b>training_classification_error</b></td>\n",
       "<td><b>validation_rmse</b></td>\n",
       "<td><b>validation_logloss</b></td>\n",
       "<td><b>validation_classification_error</b></td></tr>\n",
       "<tr><td></td>\n",
       "<td>2019-03-23 01:32:44</td>\n",
       "<td> 0.034 sec</td>\n",
       "<td>0.0</td>\n",
       "<td>0.6666667</td>\n",
       "<td>1.0986123</td>\n",
       "<td>0.5720412</td>\n",
       "<td>0.6666667</td>\n",
       "<td>1.0986123</td>\n",
       "<td>0.5742427</td></tr>\n",
       "<tr><td></td>\n",
       "<td>2019-03-23 01:32:44</td>\n",
       "<td> 0.369 sec</td>\n",
       "<td>1.0</td>\n",
       "<td>0.6535805</td>\n",
       "<td>1.0608454</td>\n",
       "<td>0.4209912</td>\n",
       "<td>0.6539796</td>\n",
       "<td>1.0620021</td>\n",
       "<td>0.4274401</td></tr>\n",
       "<tr><td></td>\n",
       "<td>2019-03-23 01:32:44</td>\n",
       "<td> 0.665 sec</td>\n",
       "<td>2.0</td>\n",
       "<td>0.6422406</td>\n",
       "<td>1.0302608</td>\n",
       "<td>0.4200696</td>\n",
       "<td>0.6429967</td>\n",
       "<td>1.0323965</td>\n",
       "<td>0.4257573</td></tr>\n",
       "<tr><td></td>\n",
       "<td>2019-03-23 01:32:45</td>\n",
       "<td> 0.943 sec</td>\n",
       "<td>3.0</td>\n",
       "<td>0.6324232</td>\n",
       "<td>1.0052059</td>\n",
       "<td>0.4198975</td>\n",
       "<td>0.6335096</td>\n",
       "<td>1.0082221</td>\n",
       "<td>0.4255593</td></tr>\n",
       "<tr><td></td>\n",
       "<td>2019-03-23 01:32:45</td>\n",
       "<td> 1.183 sec</td>\n",
       "<td>4.0</td>\n",
       "<td>0.6239090</td>\n",
       "<td>0.9844605</td>\n",
       "<td>0.4199835</td>\n",
       "<td>0.6253536</td>\n",
       "<td>0.9884154</td>\n",
       "<td>0.4264502</td></tr>\n",
       "<tr><td>---</td>\n",
       "<td>---</td>\n",
       "<td>---</td>\n",
       "<td>---</td>\n",
       "<td>---</td>\n",
       "<td>---</td>\n",
       "<td>---</td>\n",
       "<td>---</td>\n",
       "<td>---</td>\n",
       "<td>---</td></tr>\n",
       "<tr><td></td>\n",
       "<td>2019-03-23 01:32:48</td>\n",
       "<td> 3.732 sec</td>\n",
       "<td>22.0</td>\n",
       "<td>0.5674415</td>\n",
       "<td>0.8692769</td>\n",
       "<td>0.4066260</td>\n",
       "<td>0.5729774</td>\n",
       "<td>0.8845596</td>\n",
       "<td>0.4173431</td></tr>\n",
       "<tr><td></td>\n",
       "<td>2019-03-23 01:32:48</td>\n",
       "<td> 3.861 sec</td>\n",
       "<td>23.0</td>\n",
       "<td>0.5664128</td>\n",
       "<td>0.8676548</td>\n",
       "<td>0.4064908</td>\n",
       "<td>0.5721238</td>\n",
       "<td>0.8834753</td>\n",
       "<td>0.4170461</td></tr>\n",
       "<tr><td></td>\n",
       "<td>2019-03-23 01:32:48</td>\n",
       "<td> 3.999 sec</td>\n",
       "<td>24.0</td>\n",
       "<td>0.5654485</td>\n",
       "<td>0.8660373</td>\n",
       "<td>0.4058395</td>\n",
       "<td>0.5713546</td>\n",
       "<td>0.8824353</td>\n",
       "<td>0.4171451</td></tr>\n",
       "<tr><td></td>\n",
       "<td>2019-03-23 01:32:52</td>\n",
       "<td> 8.105 sec</td>\n",
       "<td>47.0</td>\n",
       "<td>0.5546023</td>\n",
       "<td>0.8473677</td>\n",
       "<td>0.3959104</td>\n",
       "<td>0.5639998</td>\n",
       "<td>0.8741028</td>\n",
       "<td>0.4144724</td></tr>\n",
       "<tr><td></td>\n",
       "<td>2019-03-23 01:32:53</td>\n",
       "<td> 8.687 sec</td>\n",
       "<td>50.0</td>\n",
       "<td>0.5539344</td>\n",
       "<td>0.8459631</td>\n",
       "<td>0.3951608</td>\n",
       "<td>0.5636781</td>\n",
       "<td>0.8738053</td>\n",
       "<td>0.4137794</td></tr></table></div>"
      ],
      "text/plain": [
       "     timestamp            duration    number_of_trees    training_rmse       training_logloss    training_classification_error    validation_rmse     validation_logloss    validation_classification_error\n",
       "---  -------------------  ----------  -----------------  ------------------  ------------------  -------------------------------  ------------------  --------------------  ---------------------------------\n",
       "     2019-03-23 01:32:44  0.034 sec   0.0                0.6666666666666099  1.098612288667976   0.5720412401538518               0.6666666666666744  1.0986122886681478    0.5742427242130271\n",
       "     2019-03-23 01:32:44  0.369 sec   1.0                0.6535804837573904  1.0608453748945632  0.4209911891566413               0.6539796343296769  1.0620021296622657    0.4274401108691348\n",
       "     2019-03-23 01:32:44  0.665 sec   2.0                0.6422406021674509  1.0302608460352087  0.42006955282205044              0.6429966786242406  1.0323964850772371    0.42575727578697287\n",
       "     2019-03-23 01:32:45  0.943 sec   3.0                0.6324231912916173  1.0052058595247033  0.4198975140395935               0.6335095547568618  1.0082221041730093    0.4255592951890715\n",
       "     2019-03-23 01:32:45  1.183 sec   4.0                0.6239090171663475  0.984460461181472   0.41998353343082195              0.62535361238256    0.9884153654646739    0.4264502078796278\n",
       "---  ---                  ---         ---                ---                 ---                 ---                              ---                 ---                   ---\n",
       "     2019-03-23 01:32:48  3.732 sec   22.0               0.567441512899676   0.8692769174693715  0.40662595082148517              0.5729773729803379  0.8845595992855042    0.4173431003761631\n",
       "     2019-03-23 01:32:48  3.861 sec   23.0               0.5664127550657789  0.8676547710815405  0.40649077749241186              0.5721238252691244  0.8834753458278825    0.417046129479311\n",
       "     2019-03-23 01:32:48  3.999 sec   24.0               0.5654485361752443  0.866037268242564   0.4058394878159677               0.571354639091539   0.8824353396093676    0.41714511977826174\n",
       "     2019-03-23 01:32:52  8.105 sec   47.0               0.5546022633638651  0.8473676914659803  0.3959103923713089               0.5639997608341074  0.8741028420189508    0.41447238170659273\n",
       "     2019-03-23 01:32:53  8.687 sec   50.0               0.5539344474777708  0.8459630969996649  0.39516079481917493              0.5636780934382902  0.8738053258299059    0.4137794496139378"
      ]
     },
     "metadata": {},
     "output_type": "display_data"
    },
    {
     "name": "stdout",
     "output_type": "stream",
     "text": [
      "\n",
      "See the whole table with table.as_data_frame()\n",
      "Variable Importances: \n"
     ]
    },
    {
     "data": {
      "text/html": [
       "<div style=\"overflow:auto\"><table style=\"width:50%\"><tr><td><b>variable</b></td>\n",
       "<td><b>relative_importance</b></td>\n",
       "<td><b>scaled_importance</b></td>\n",
       "<td><b>percentage</b></td></tr>\n",
       "<tr><td>number_inpatient</td>\n",
       "<td>8327.2812500</td>\n",
       "<td>1.0</td>\n",
       "<td>0.3184671</td></tr>\n",
       "<tr><td>discharge_disposition_id</td>\n",
       "<td>5512.3364258</td>\n",
       "<td>0.6619611</td>\n",
       "<td>0.2108128</td></tr>\n",
       "<tr><td>medical_specialty</td>\n",
       "<td>3200.0964355</td>\n",
       "<td>0.3842907</td>\n",
       "<td>0.1223839</td></tr>\n",
       "<tr><td>admission_source_id</td>\n",
       "<td>1404.1108398</td>\n",
       "<td>0.1686158</td>\n",
       "<td>0.0536986</td></tr>\n",
       "<tr><td>number_diagnoses</td>\n",
       "<td>1390.5153809</td>\n",
       "<td>0.1669831</td>\n",
       "<td>0.0531786</td></tr>\n",
       "<tr><td>---</td>\n",
       "<td>---</td>\n",
       "<td>---</td>\n",
       "<td>---</td></tr>\n",
       "<tr><td>tolazamide</td>\n",
       "<td>0.0</td>\n",
       "<td>0.0</td>\n",
       "<td>0.0</td></tr>\n",
       "<tr><td>glipizide-metformin</td>\n",
       "<td>0.0</td>\n",
       "<td>0.0</td>\n",
       "<td>0.0</td></tr>\n",
       "<tr><td>glimepiride-pioglitazone</td>\n",
       "<td>0.0</td>\n",
       "<td>0.0</td>\n",
       "<td>0.0</td></tr>\n",
       "<tr><td>metformin-rosiglitazone</td>\n",
       "<td>0.0</td>\n",
       "<td>0.0</td>\n",
       "<td>0.0</td></tr>\n",
       "<tr><td>metformin-pioglitazone</td>\n",
       "<td>0.0</td>\n",
       "<td>0.0</td>\n",
       "<td>0.0</td></tr></table></div>"
      ],
      "text/plain": [
       "variable                  relative_importance    scaled_importance    percentage\n",
       "------------------------  ---------------------  -------------------  --------------------\n",
       "number_inpatient          8327.28125             1.0                  0.31846708809119845\n",
       "discharge_disposition_id  5512.33642578125       0.6619611203574096   0.21081283042981155\n",
       "medical_specialty         3200.096435546875      0.3842906633598901   0.12238392854085921\n",
       "admission_source_id       1404.11083984375       0.1686157579754797   0.05369856944874129\n",
       "number_diagnoses          1390.515380859375      0.1669831171919857   0.053178627092523016\n",
       "---                       ---                    ---                  ---\n",
       "tolazamide                0.0                    0.0                  0.0\n",
       "glipizide-metformin       0.0                    0.0                  0.0\n",
       "glimepiride-pioglitazone  0.0                    0.0                  0.0\n",
       "metformin-rosiglitazone   0.0                    0.0                  0.0\n",
       "metformin-pioglitazone    0.0                    0.0                  0.0"
      ]
     },
     "metadata": {},
     "output_type": "display_data"
    },
    {
     "name": "stdout",
     "output_type": "stream",
     "text": [
      "\n",
      "See the whole table with table.as_data_frame()\n"
     ]
    },
    {
     "data": {
      "text/plain": []
     },
     "execution_count": 51,
     "metadata": {},
     "output_type": "execute_result"
    }
   ],
   "source": [
    "best_gbm"
   ]
  },
  {
   "cell_type": "code",
   "execution_count": 52,
   "metadata": {},
   "outputs": [
    {
     "data": {
      "image/png": "[encoded data removed]",
      "text/plain": [
       "<Figure size 1008x720 with 1 Axes>"
      ]
     },
     "metadata": {},
     "output_type": "display_data"
    }
   ],
   "source": [
    "best_gbm.varimp_plot()"
   ]
  },
  {
   "cell_type": "markdown",
   "metadata": {},
   "source": [
    "Expectedly, our error on validation set decreases."
   ]
  },
  {
   "cell_type": "markdown",
   "metadata": {},
   "source": [
    "\n",
    "Create feature from combination of diagnoses"
   ]
  },
  {
   "cell_type": "code",
   "execution_count": 53,
   "metadata": {},
   "outputs": [
    {
     "name": "stdout",
     "output_type": "stream",
     "text": [
      "Interactions progress: |██████████████████████████████████████████████████| 100%\n",
      "Interactions progress: |██████████████████████████████████████████████████| 100%\n",
      "Interactions progress: |██████████████████████████████████████████████████| 100%\n"
     ]
    }
   ],
   "source": [
    "interaction_cols1 = ['diag_3', 'diag_2', 'diag_1']\n",
    "\n",
    "train_cols = train.interaction(factors=interaction_cols1,    #Generate pairwise columns\n",
    "                               pairwise=False,\n",
    "                               max_factors=1000,\n",
    "                               min_occurrence=100)\n",
    "valid_cols = valid.interaction(factors=interaction_cols1,\n",
    "                               pairwise=False,\n",
    "                               max_factors=1000,\n",
    "                               min_occurrence=100)\n",
    "test_cols = test.interaction(factors=interaction_cols1,\n",
    "                               pairwise=False,\n",
    "                               max_factors=1000,\n",
    "                               min_occurrence=100)\n",
    "train = train.cbind(train_cols)                              #Append pairwise columns to H2OFrames\n",
    "valid = valid.cbind(valid_cols)\n",
    "test = test.cbind(test_cols)\n",
    "\n"
   ]
  },
  {
   "cell_type": "code",
   "execution_count": 54,
   "metadata": {
    "scrolled": false
   },
   "outputs": [
    {
     "name": "stdout",
     "output_type": "stream",
     "text": [
      "gbm Model Build progress: |███████████████████████████████████████████████| 100%\n",
      "Model Details\n",
      "=============\n",
      "H2OGradientBoostingEstimator :  Gradient Boosting Machine\n",
      "Model Key:  GBM_model_python_1553284516351_2\n",
      "\n",
      "\n",
      "ModelMetricsMultinomial: gbm\n",
      "** Reported on train data. **\n",
      "\n",
      "MSE: 0.29921448329429895\n",
      "RMSE: 0.5470050121290471\n",
      "LogLoss: 0.8276237333387567\n",
      "Mean Per-Class Error: 0.5530332108524357\n",
      "Confusion Matrix: Row labels: Actual class; Column labels: Predicted class\n",
      "\n"
     ]
    },
    {
     "data": {
      "text/html": [
       "<div style=\"overflow:auto\"><table style=\"width:50%\"><tr><td><b><30</b></td>\n",
       "<td><b>>30</b></td>\n",
       "<td><b>NO</b></td>\n",
       "<td><b>Error</b></td>\n",
       "<td><b>Rate</b></td></tr>\n",
       "<tr><td>646.0</td>\n",
       "<td>3187.0</td>\n",
       "<td>5238.0</td>\n",
       "<td>0.9287840</td>\n",
       "<td>8,425 / 9,071</td></tr>\n",
       "<tr><td>117.0</td>\n",
       "<td>11248.0</td>\n",
       "<td>16944.0</td>\n",
       "<td>0.6026705</td>\n",
       "<td>17,061 / 28,309</td></tr>\n",
       "<tr><td>77.0</td>\n",
       "<td>5539.0</td>\n",
       "<td>38381.0</td>\n",
       "<td>0.1276451</td>\n",
       "<td>5,616 / 43,997</td></tr>\n",
       "<tr><td>840.0</td>\n",
       "<td>19974.0</td>\n",
       "<td>60563.0</td>\n",
       "<td>0.3821964</td>\n",
       "<td>31,102 / 81,377</td></tr></table></div>"
      ],
      "text/plain": [
       "<30    >30    NO     Error     Rate\n",
       "-----  -----  -----  --------  ---------------\n",
       "646    3187   5238   0.928784  8,425 / 9,071\n",
       "117    11248  16944  0.602671  17,061 / 28,309\n",
       "77     5539   38381  0.127645  5,616 / 43,997\n",
       "840    19974  60563  0.382196  31,102 / 81,377"
      ]
     },
     "metadata": {},
     "output_type": "display_data"
    },
    {
     "name": "stdout",
     "output_type": "stream",
     "text": [
      "Top-3 Hit Ratios: \n"
     ]
    },
    {
     "data": {
      "text/html": [
       "<div style=\"overflow:auto\"><table style=\"width:50%\"><tr><td><b>k</b></td>\n",
       "<td><b>hit_ratio</b></td></tr>\n",
       "<tr><td>1</td>\n",
       "<td>0.6178036</td></tr>\n",
       "<tr><td>2</td>\n",
       "<td>0.9039532</td></tr>\n",
       "<tr><td>3</td>\n",
       "<td>1.0</td></tr></table></div>"
      ],
      "text/plain": [
       "k    hit_ratio\n",
       "---  -----------\n",
       "1    0.617804\n",
       "2    0.903953\n",
       "3    1"
      ]
     },
     "metadata": {},
     "output_type": "display_data"
    },
    {
     "name": "stdout",
     "output_type": "stream",
     "text": [
      "\n",
      "ModelMetricsMultinomial: gbm\n",
      "** Reported on validation data. **\n",
      "\n",
      "MSE: 0.31772490490541044\n",
      "RMSE: 0.563670918981466\n",
      "LogLoss: 0.8751189455641554\n",
      "Mean Per-Class Error: 0.5812421408128647\n",
      "Confusion Matrix: Row labels: Actual class; Column labels: Predicted class\n",
      "\n"
     ]
    },
    {
     "data": {
      "text/html": [
       "<div style=\"overflow:auto\"><table style=\"width:50%\"><tr><td><b><30</b></td>\n",
       "<td><b>>30</b></td>\n",
       "<td><b>NO</b></td>\n",
       "<td><b>Error</b></td>\n",
       "<td><b>Rate</b></td></tr>\n",
       "<tr><td>41.0</td>\n",
       "<td>425.0</td>\n",
       "<td>695.0</td>\n",
       "<td>0.9646856</td>\n",
       "<td>1,120 / 1,161</td></tr>\n",
       "<tr><td>24.0</td>\n",
       "<td>1319.0</td>\n",
       "<td>2218.0</td>\n",
       "<td>0.6295984</td>\n",
       "<td>2,242 / 3,561</td></tr>\n",
       "<tr><td>17.0</td>\n",
       "<td>787.0</td>\n",
       "<td>4576.0</td>\n",
       "<td>0.1494424</td>\n",
       "<td>804 / 5,380</td></tr>\n",
       "<tr><td>82.0</td>\n",
       "<td>2531.0</td>\n",
       "<td>7489.0</td>\n",
       "<td>0.4123936</td>\n",
       "<td>4,166 / 10,102</td></tr></table></div>"
      ],
      "text/plain": [
       "<30    >30    NO    Error     Rate\n",
       "-----  -----  ----  --------  --------------\n",
       "41     425    695   0.964686  1,120 / 1,161\n",
       "24     1319   2218  0.629598  2,242 / 3,561\n",
       "17     787    4576  0.149442  804 / 5,380\n",
       "82     2531   7489  0.412394  4,166 / 10,102"
      ]
     },
     "metadata": {},
     "output_type": "display_data"
    },
    {
     "name": "stdout",
     "output_type": "stream",
     "text": [
      "Top-3 Hit Ratios: \n"
     ]
    },
    {
     "data": {
      "text/html": [
       "<div style=\"overflow:auto\"><table style=\"width:50%\"><tr><td><b>k</b></td>\n",
       "<td><b>hit_ratio</b></td></tr>\n",
       "<tr><td>1</td>\n",
       "<td>0.5876064</td></tr>\n",
       "<tr><td>2</td>\n",
       "<td>0.8955653</td></tr>\n",
       "<tr><td>3</td>\n",
       "<td>1.0</td></tr></table></div>"
      ],
      "text/plain": [
       "k    hit_ratio\n",
       "---  -----------\n",
       "1    0.587606\n",
       "2    0.895565\n",
       "3    1"
      ]
     },
     "metadata": {},
     "output_type": "display_data"
    },
    {
     "name": "stdout",
     "output_type": "stream",
     "text": [
      "Scoring History: \n"
     ]
    },
    {
     "data": {
      "text/html": [
       "<div style=\"overflow:auto\"><table style=\"width:50%\"><tr><td><b></b></td>\n",
       "<td><b>timestamp</b></td>\n",
       "<td><b>duration</b></td>\n",
       "<td><b>number_of_trees</b></td>\n",
       "<td><b>training_rmse</b></td>\n",
       "<td><b>training_logloss</b></td>\n",
       "<td><b>training_classification_error</b></td>\n",
       "<td><b>validation_rmse</b></td>\n",
       "<td><b>validation_logloss</b></td>\n",
       "<td><b>validation_classification_error</b></td></tr>\n",
       "<tr><td></td>\n",
       "<td>2019-03-23 01:33:04</td>\n",
       "<td> 0.037 sec</td>\n",
       "<td>0.0</td>\n",
       "<td>0.6666667</td>\n",
       "<td>1.0986123</td>\n",
       "<td>0.5744744</td>\n",
       "<td>0.6666667</td>\n",
       "<td>1.0986123</td>\n",
       "<td>0.5798852</td></tr>\n",
       "<tr><td></td>\n",
       "<td>2019-03-23 01:33:04</td>\n",
       "<td> 0.189 sec</td>\n",
       "<td>1.0</td>\n",
       "<td>0.6534247</td>\n",
       "<td>1.0603854</td>\n",
       "<td>0.4217408</td>\n",
       "<td>0.6538941</td>\n",
       "<td>1.0617613</td>\n",
       "<td>0.4277371</td></tr>\n",
       "<tr><td></td>\n",
       "<td>2019-03-23 01:33:05</td>\n",
       "<td> 0.316 sec</td>\n",
       "<td>2.0</td>\n",
       "<td>0.6419766</td>\n",
       "<td>1.0295105</td>\n",
       "<td>0.4195043</td>\n",
       "<td>0.6428328</td>\n",
       "<td>1.0319891</td>\n",
       "<td>0.4267472</td></tr>\n",
       "<tr><td></td>\n",
       "<td>2019-03-23 01:33:05</td>\n",
       "<td> 0.443 sec</td>\n",
       "<td>3.0</td>\n",
       "<td>0.6320126</td>\n",
       "<td>1.0040614</td>\n",
       "<td>0.4178085</td>\n",
       "<td>0.6332717</td>\n",
       "<td>1.0076855</td>\n",
       "<td>0.4257573</td></tr>\n",
       "<tr><td></td>\n",
       "<td>2019-03-23 01:33:05</td>\n",
       "<td> 0.571 sec</td>\n",
       "<td>4.0</td>\n",
       "<td>0.6233700</td>\n",
       "<td>0.9829749</td>\n",
       "<td>0.4173784</td>\n",
       "<td>0.6251888</td>\n",
       "<td>0.9881134</td>\n",
       "<td>0.4253613</td></tr>\n",
       "<tr><td>---</td>\n",
       "<td>---</td>\n",
       "<td>---</td>\n",
       "<td>---</td>\n",
       "<td>---</td>\n",
       "<td>---</td>\n",
       "<td>---</td>\n",
       "<td>---</td>\n",
       "<td>---</td>\n",
       "<td>---</td></tr>\n",
       "<tr><td></td>\n",
       "<td>2019-03-23 01:33:08</td>\n",
       "<td> 3.657 sec</td>\n",
       "<td>22.0</td>\n",
       "<td>0.5641421</td>\n",
       "<td>0.8605399</td>\n",
       "<td>0.4008258</td>\n",
       "<td>0.5730004</td>\n",
       "<td>0.8853393</td>\n",
       "<td>0.4198179</td></tr>\n",
       "<tr><td></td>\n",
       "<td>2019-03-23 01:33:08</td>\n",
       "<td> 3.850 sec</td>\n",
       "<td>23.0</td>\n",
       "<td>0.5629590</td>\n",
       "<td>0.8584031</td>\n",
       "<td>0.4000516</td>\n",
       "<td>0.5720927</td>\n",
       "<td>0.8840322</td>\n",
       "<td>0.4190259</td></tr>\n",
       "<tr><td></td>\n",
       "<td>2019-03-23 01:33:08</td>\n",
       "<td> 4.036 sec</td>\n",
       "<td>24.0</td>\n",
       "<td>0.5618233</td>\n",
       "<td>0.8564150</td>\n",
       "<td>0.3987122</td>\n",
       "<td>0.5713176</td>\n",
       "<td>0.8830709</td>\n",
       "<td>0.4185310</td></tr>\n",
       "<tr><td></td>\n",
       "<td>2019-03-23 01:33:12</td>\n",
       "<td> 8.129 sec</td>\n",
       "<td>46.0</td>\n",
       "<td>0.5483802</td>\n",
       "<td>0.8307279</td>\n",
       "<td>0.3839168</td>\n",
       "<td>0.5641021</td>\n",
       "<td>0.8754754</td>\n",
       "<td>0.4117996</td></tr>\n",
       "<tr><td></td>\n",
       "<td>2019-03-23 01:33:13</td>\n",
       "<td> 8.980 sec</td>\n",
       "<td>50.0</td>\n",
       "<td>0.5470050</td>\n",
       "<td>0.8276237</td>\n",
       "<td>0.3821964</td>\n",
       "<td>0.5636709</td>\n",
       "<td>0.8751189</td>\n",
       "<td>0.4123936</td></tr></table></div>"
      ],
      "text/plain": [
       "     timestamp            duration    number_of_trees    training_rmse       training_logloss    training_classification_error    validation_rmse     validation_logloss    validation_classification_error\n",
       "---  -------------------  ----------  -----------------  ------------------  ------------------  -------------------------------  ------------------  --------------------  ---------------------------------\n",
       "     2019-03-23 01:33:04  0.037 sec   0.0                0.6666666666666099  1.098612288667976   0.5744743600771717               0.6666666666666744  1.0986122886681478    0.5798851712532171\n",
       "     2019-03-23 01:33:04  0.189 sec   1.0                0.6534247003611402  1.0603853816547677  0.4217407867087752               0.653894109061486   1.0617612759227626    0.42773708176598696\n",
       "     2019-03-23 01:33:05  0.316 sec   2.0                0.6419766063568465  1.0295105482351268  0.41950428253683475              0.6428328232682523  1.031989131807236     0.4267471787764799\n",
       "     2019-03-23 01:33:05  0.443 sec   3.0                0.6320126190675855  1.0040613857019625  0.41780847168118757              0.6332717201538721  1.007685487076652     0.42575727578697287\n",
       "     2019-03-23 01:33:05  0.571 sec   4.0                0.623370000355069   0.9829749420985102  0.4173783747250452               0.625188750816034   0.9881133752716158    0.42536131459117005\n",
       "---  ---                  ---         ---                ---                 ---                 ---                              ---                 ---                   ---\n",
       "     2019-03-23 01:33:08  3.657 sec   22.0               0.5641420984929604  0.8605398564650363  0.4008257861557934               0.5730004316163497  0.8853393466411709    0.4198178578499307\n",
       "     2019-03-23 01:33:08  3.850 sec   23.0               0.5629590402172453  0.8584031098514712  0.40005161163473707              0.5720926812981136  0.8840321592158452    0.41902593545832506\n",
       "     2019-03-23 01:33:08  4.036 sec   24.0               0.5618233021868442  0.8564149881252058  0.39871216682846505              0.5713176183918726  0.883070873138899     0.4185309839635716\n",
       "     2019-03-23 01:33:12  8.129 sec   46.0               0.5483801974796338  0.8307279456194241  0.38391683153716655              0.5641020614287227  0.875475389699268     0.4117996436349238\n",
       "     2019-03-23 01:33:13  8.980 sec   50.0               0.5470050121290471  0.8276237333387567  0.3821964437125969               0.563670918981466   0.8751189455641554    0.412393585428628"
      ]
     },
     "metadata": {},
     "output_type": "display_data"
    },
    {
     "name": "stdout",
     "output_type": "stream",
     "text": [
      "\n",
      "See the whole table with table.as_data_frame()\n",
      "Variable Importances: \n"
     ]
    },
    {
     "data": {
      "text/html": [
       "<div style=\"overflow:auto\"><table style=\"width:50%\"><tr><td><b>variable</b></td>\n",
       "<td><b>relative_importance</b></td>\n",
       "<td><b>scaled_importance</b></td>\n",
       "<td><b>percentage</b></td></tr>\n",
       "<tr><td>number_inpatient</td>\n",
       "<td>8213.6171875</td>\n",
       "<td>1.0</td>\n",
       "<td>0.2661060</td></tr>\n",
       "<tr><td>diag_3_diag_2_diag_1</td>\n",
       "<td>7598.7177734</td>\n",
       "<td>0.9251366</td>\n",
       "<td>0.2461844</td></tr>\n",
       "<tr><td>discharge_disposition_id</td>\n",
       "<td>5313.1323242</td>\n",
       "<td>0.6468688</td>\n",
       "<td>0.1721357</td></tr>\n",
       "<tr><td>medical_specialty</td>\n",
       "<td>2633.3588867</td>\n",
       "<td>0.3206089</td>\n",
       "<td>0.0853160</td></tr>\n",
       "<tr><td>admission_source_id</td>\n",
       "<td>1292.3270264</td>\n",
       "<td>0.1573396</td>\n",
       "<td>0.0418690</td></tr>\n",
       "<tr><td>---</td>\n",
       "<td>---</td>\n",
       "<td>---</td>\n",
       "<td>---</td></tr>\n",
       "<tr><td>tolazamide</td>\n",
       "<td>0.0</td>\n",
       "<td>0.0</td>\n",
       "<td>0.0</td></tr>\n",
       "<tr><td>glipizide-metformin</td>\n",
       "<td>0.0</td>\n",
       "<td>0.0</td>\n",
       "<td>0.0</td></tr>\n",
       "<tr><td>glimepiride-pioglitazone</td>\n",
       "<td>0.0</td>\n",
       "<td>0.0</td>\n",
       "<td>0.0</td></tr>\n",
       "<tr><td>metformin-rosiglitazone</td>\n",
       "<td>0.0</td>\n",
       "<td>0.0</td>\n",
       "<td>0.0</td></tr>\n",
       "<tr><td>metformin-pioglitazone</td>\n",
       "<td>0.0</td>\n",
       "<td>0.0</td>\n",
       "<td>0.0</td></tr></table></div>"
      ],
      "text/plain": [
       "variable                  relative_importance    scaled_importance    percentage\n",
       "------------------------  ---------------------  -------------------  -------------------\n",
       "number_inpatient          8213.6171875           1.0                  0.26610600561387937\n",
       "diag_3_diag_2_diag_1      7598.7177734375        0.9251365872032248   0.24618440186790655\n",
       "discharge_disposition_id  5313.13232421875       0.6468687550114472   0.17213566055251933\n",
       "medical_specialty         2633.35888671875       0.3206089140271063   0.08531595747595691\n",
       "admission_source_id       1292.3270263671875     0.15733957364532794  0.04186900546774902\n",
       "---                       ---                    ---                  ---\n",
       "tolazamide                0.0                    0.0                  0.0\n",
       "glipizide-metformin       0.0                    0.0                  0.0\n",
       "glimepiride-pioglitazone  0.0                    0.0                  0.0\n",
       "metformin-rosiglitazone   0.0                    0.0                  0.0\n",
       "metformin-pioglitazone    0.0                    0.0                  0.0"
      ]
     },
     "metadata": {},
     "output_type": "display_data"
    },
    {
     "name": "stdout",
     "output_type": "stream",
     "text": [
      "\n",
      "See the whole table with table.as_data_frame()\n"
     ]
    },
    {
     "data": {
      "text/plain": []
     },
     "execution_count": 54,
     "metadata": {},
     "output_type": "execute_result"
    }
   ],
   "source": [
    "best_gbm.train(list(set(train.col_names) - set(['readmitted','diag_1', 'diag_2', 'diag_3'])), covtype_y,\n",
    "                training_frame=train,\n",
    "                validation_frame=valid)\n",
    "best_gbm"
   ]
  },
  {
   "cell_type": "code",
   "execution_count": 55,
   "metadata": {},
   "outputs": [
    {
     "data": {
      "image/png": "[encoded data removed]",
      "text/plain": [
       "<Figure size 1008x720 with 1 Axes>"
      ]
     },
     "metadata": {},
     "output_type": "display_data"
    }
   ],
   "source": [
    "best_gbm.varimp_plot()"
   ]
  },
  {
   "cell_type": "markdown",
   "metadata": {},
   "source": [
    "We see a further decrease in the validation set error."
   ]
  },
  {
   "cell_type": "code",
   "execution_count": 56,
   "metadata": {},
   "outputs": [],
   "source": [
    "medicines = np.array(best_gbm.varimp()[-20:])"
   ]
  },
  {
   "cell_type": "code",
   "execution_count": 57,
   "metadata": {},
   "outputs": [],
   "source": [
    "medicines=medicines[:, 0]"
   ]
  },
  {
   "cell_type": "code",
   "execution_count": 61,
   "metadata": {},
   "outputs": [
    {
     "name": "stdout",
     "output_type": "stream",
     "text": [
      "gbm Model Build progress: |███████████████████████████████████████████████| 100%\n",
      "Model Details\n",
      "=============\n",
      "H2OGradientBoostingEstimator :  Gradient Boosting Machine\n",
      "Model Key:  GBM_model_python_1553284516351_5\n",
      "\n",
      "\n",
      "ModelMetricsMultinomial: gbm\n",
      "** Reported on train data. **\n",
      "\n",
      "MSE: 0.2991307847653042\n",
      "RMSE: 0.5469285005970197\n",
      "LogLoss: 0.8275123245203799\n",
      "Mean Per-Class Error: 0.5528546481047192\n",
      "Confusion Matrix: Row labels: Actual class; Column labels: Predicted class\n",
      "\n"
     ]
    },
    {
     "data": {
      "text/html": [
       "<div style=\"overflow:auto\"><table style=\"width:50%\"><tr><td><b><30</b></td>\n",
       "<td><b>>30</b></td>\n",
       "<td><b>NO</b></td>\n",
       "<td><b>Error</b></td>\n",
       "<td><b>Rate</b></td></tr>\n",
       "<tr><td>638.0</td>\n",
       "<td>3189.0</td>\n",
       "<td>5244.0</td>\n",
       "<td>0.9296660</td>\n",
       "<td>8,433 / 9,071</td></tr>\n",
       "<tr><td>111.0</td>\n",
       "<td>11301.0</td>\n",
       "<td>16897.0</td>\n",
       "<td>0.6007983</td>\n",
       "<td>17,008 / 28,309</td></tr>\n",
       "<tr><td>78.0</td>\n",
       "<td>5558.0</td>\n",
       "<td>38361.0</td>\n",
       "<td>0.1280996</td>\n",
       "<td>5,636 / 43,997</td></tr>\n",
       "<tr><td>827.0</td>\n",
       "<td>20048.0</td>\n",
       "<td>60502.0</td>\n",
       "<td>0.3818892</td>\n",
       "<td>31,077 / 81,377</td></tr></table></div>"
      ],
      "text/plain": [
       "<30    >30    NO     Error     Rate\n",
       "-----  -----  -----  --------  ---------------\n",
       "638    3189   5244   0.929666  8,433 / 9,071\n",
       "111    11301  16897  0.600798  17,008 / 28,309\n",
       "78     5558   38361  0.1281    5,636 / 43,997\n",
       "827    20048  60502  0.381889  31,077 / 81,377"
      ]
     },
     "metadata": {},
     "output_type": "display_data"
    },
    {
     "name": "stdout",
     "output_type": "stream",
     "text": [
      "Top-3 Hit Ratios: \n"
     ]
    },
    {
     "data": {
      "text/html": [
       "<div style=\"overflow:auto\"><table style=\"width:50%\"><tr><td><b>k</b></td>\n",
       "<td><b>hit_ratio</b></td></tr>\n",
       "<tr><td>1</td>\n",
       "<td>0.6181108</td></tr>\n",
       "<tr><td>2</td>\n",
       "<td>0.9041744</td></tr>\n",
       "<tr><td>3</td>\n",
       "<td>1.0</td></tr></table></div>"
      ],
      "text/plain": [
       "k    hit_ratio\n",
       "---  -----------\n",
       "1    0.618111\n",
       "2    0.904174\n",
       "3    1"
      ]
     },
     "metadata": {},
     "output_type": "display_data"
    },
    {
     "name": "stdout",
     "output_type": "stream",
     "text": [
      "\n",
      "ModelMetricsMultinomial: gbm\n",
      "** Reported on validation data. **\n",
      "\n",
      "MSE: 0.31760629629761655\n",
      "RMSE: 0.5635656982975601\n",
      "LogLoss: 0.8749692429862734\n",
      "Mean Per-Class Error: 0.5810804925610521\n",
      "Confusion Matrix: Row labels: Actual class; Column labels: Predicted class\n",
      "\n"
     ]
    },
    {
     "data": {
      "text/html": [
       "<div style=\"overflow:auto\"><table style=\"width:50%\"><tr><td><b><30</b></td>\n",
       "<td><b>>30</b></td>\n",
       "<td><b>NO</b></td>\n",
       "<td><b>Error</b></td>\n",
       "<td><b>Rate</b></td></tr>\n",
       "<tr><td>38.0</td>\n",
       "<td>430.0</td>\n",
       "<td>693.0</td>\n",
       "<td>0.9672696</td>\n",
       "<td>1,123 / 1,161</td></tr>\n",
       "<tr><td>22.0</td>\n",
       "<td>1320.0</td>\n",
       "<td>2219.0</td>\n",
       "<td>0.6293176</td>\n",
       "<td>2,241 / 3,561</td></tr>\n",
       "<tr><td>14.0</td>\n",
       "<td>775.0</td>\n",
       "<td>4591.0</td>\n",
       "<td>0.1466543</td>\n",
       "<td>789 / 5,380</td></tr>\n",
       "<tr><td>74.0</td>\n",
       "<td>2525.0</td>\n",
       "<td>7503.0</td>\n",
       "<td>0.4111067</td>\n",
       "<td>4,153 / 10,102</td></tr></table></div>"
      ],
      "text/plain": [
       "<30    >30    NO    Error     Rate\n",
       "-----  -----  ----  --------  --------------\n",
       "38     430    693   0.96727   1,123 / 1,161\n",
       "22     1320   2219  0.629318  2,241 / 3,561\n",
       "14     775    4591  0.146654  789 / 5,380\n",
       "74     2525   7503  0.411107  4,153 / 10,102"
      ]
     },
     "metadata": {},
     "output_type": "display_data"
    },
    {
     "name": "stdout",
     "output_type": "stream",
     "text": [
      "Top-3 Hit Ratios: \n"
     ]
    },
    {
     "data": {
      "text/html": [
       "<div style=\"overflow:auto\"><table style=\"width:50%\"><tr><td><b>k</b></td>\n",
       "<td><b>hit_ratio</b></td></tr>\n",
       "<tr><td>1</td>\n",
       "<td>0.5888933</td></tr>\n",
       "<tr><td>2</td>\n",
       "<td>0.8955653</td></tr>\n",
       "<tr><td>3</td>\n",
       "<td>1.0</td></tr></table></div>"
      ],
      "text/plain": [
       "k    hit_ratio\n",
       "---  -----------\n",
       "1    0.588893\n",
       "2    0.895565\n",
       "3    1"
      ]
     },
     "metadata": {},
     "output_type": "display_data"
    },
    {
     "name": "stdout",
     "output_type": "stream",
     "text": [
      "Scoring History: \n"
     ]
    },
    {
     "data": {
      "text/html": [
       "<div style=\"overflow:auto\"><table style=\"width:50%\"><tr><td><b></b></td>\n",
       "<td><b>timestamp</b></td>\n",
       "<td><b>duration</b></td>\n",
       "<td><b>number_of_trees</b></td>\n",
       "<td><b>training_rmse</b></td>\n",
       "<td><b>training_logloss</b></td>\n",
       "<td><b>training_classification_error</b></td>\n",
       "<td><b>validation_rmse</b></td>\n",
       "<td><b>validation_logloss</b></td>\n",
       "<td><b>validation_classification_error</b></td></tr>\n",
       "<tr><td></td>\n",
       "<td>2019-03-23 01:33:50</td>\n",
       "<td> 0.020 sec</td>\n",
       "<td>0.0</td>\n",
       "<td>0.6666667</td>\n",
       "<td>1.0986123</td>\n",
       "<td>0.5764651</td>\n",
       "<td>0.6666667</td>\n",
       "<td>1.0986123</td>\n",
       "<td>0.5686993</td></tr>\n",
       "<tr><td></td>\n",
       "<td>2019-03-23 01:33:50</td>\n",
       "<td> 0.106 sec</td>\n",
       "<td>1.0</td>\n",
       "<td>0.6534247</td>\n",
       "<td>1.0603854</td>\n",
       "<td>0.4217408</td>\n",
       "<td>0.6538941</td>\n",
       "<td>1.0617613</td>\n",
       "<td>0.4277371</td></tr>\n",
       "<tr><td></td>\n",
       "<td>2019-03-23 01:33:50</td>\n",
       "<td> 0.176 sec</td>\n",
       "<td>2.0</td>\n",
       "<td>0.6419766</td>\n",
       "<td>1.0295105</td>\n",
       "<td>0.4195043</td>\n",
       "<td>0.6428328</td>\n",
       "<td>1.0319891</td>\n",
       "<td>0.4267472</td></tr>\n",
       "<tr><td></td>\n",
       "<td>2019-03-23 01:33:50</td>\n",
       "<td> 0.257 sec</td>\n",
       "<td>3.0</td>\n",
       "<td>0.6320126</td>\n",
       "<td>1.0040614</td>\n",
       "<td>0.4178085</td>\n",
       "<td>0.6332717</td>\n",
       "<td>1.0076855</td>\n",
       "<td>0.4257573</td></tr>\n",
       "<tr><td></td>\n",
       "<td>2019-03-23 01:33:50</td>\n",
       "<td> 0.336 sec</td>\n",
       "<td>4.0</td>\n",
       "<td>0.6233700</td>\n",
       "<td>0.9829749</td>\n",
       "<td>0.4173784</td>\n",
       "<td>0.6251888</td>\n",
       "<td>0.9881134</td>\n",
       "<td>0.4253613</td></tr>\n",
       "<tr><td>---</td>\n",
       "<td>---</td>\n",
       "<td>---</td>\n",
       "<td>---</td>\n",
       "<td>---</td>\n",
       "<td>---</td>\n",
       "<td>---</td>\n",
       "<td>---</td>\n",
       "<td>---</td>\n",
       "<td>---</td></tr>\n",
       "<tr><td></td>\n",
       "<td>2019-03-23 01:33:54</td>\n",
       "<td> 3.568 sec</td>\n",
       "<td>40.0</td>\n",
       "<td>0.5509232</td>\n",
       "<td>0.8361600</td>\n",
       "<td>0.3877877</td>\n",
       "<td>0.5650385</td>\n",
       "<td>0.8764217</td>\n",
       "<td>0.4138784</td></tr>\n",
       "<tr><td></td>\n",
       "<td>2019-03-23 01:33:54</td>\n",
       "<td> 3.685 sec</td>\n",
       "<td>41.0</td>\n",
       "<td>0.5504306</td>\n",
       "<td>0.8351471</td>\n",
       "<td>0.3868784</td>\n",
       "<td>0.5648465</td>\n",
       "<td>0.8762807</td>\n",
       "<td>0.4127895</td></tr>\n",
       "<tr><td></td>\n",
       "<td>2019-03-23 01:33:54</td>\n",
       "<td> 3.805 sec</td>\n",
       "<td>42.0</td>\n",
       "<td>0.5499844</td>\n",
       "<td>0.8341874</td>\n",
       "<td>0.3864728</td>\n",
       "<td>0.5646965</td>\n",
       "<td>0.8761785</td>\n",
       "<td>0.4124926</td></tr>\n",
       "<tr><td></td>\n",
       "<td>2019-03-23 01:33:54</td>\n",
       "<td> 3.925 sec</td>\n",
       "<td>43.0</td>\n",
       "<td>0.5496068</td>\n",
       "<td>0.8333520</td>\n",
       "<td>0.3858584</td>\n",
       "<td>0.5645608</td>\n",
       "<td>0.8760205</td>\n",
       "<td>0.4129875</td></tr>\n",
       "<tr><td></td>\n",
       "<td>2019-03-23 01:33:55</td>\n",
       "<td> 4.662 sec</td>\n",
       "<td>50.0</td>\n",
       "<td>0.5469285</td>\n",
       "<td>0.8275123</td>\n",
       "<td>0.3818892</td>\n",
       "<td>0.5635657</td>\n",
       "<td>0.8749692</td>\n",
       "<td>0.4111067</td></tr></table></div>"
      ],
      "text/plain": [
       "     timestamp            duration    number_of_trees    training_rmse       training_logloss    training_classification_error    validation_rmse     validation_logloss    validation_classification_error\n",
       "---  -------------------  ----------  -----------------  ------------------  ------------------  -------------------------------  ------------------  --------------------  ---------------------------------\n",
       "     2019-03-23 01:33:50  0.020 sec   0.0                0.6666666666666099  1.098612288667976   0.5764650945598879               0.6666666666666744  1.0986122886681478    0.5686992674717878\n",
       "     2019-03-23 01:33:50  0.106 sec   1.0                0.6534247003611402  1.0603853816547677  0.4217407867087752               0.653894109061486   1.0617612759227626    0.42773708176598696\n",
       "     2019-03-23 01:33:50  0.176 sec   2.0                0.6419766063568465  1.0295105482351268  0.41950428253683475              0.6428328232682523  1.031989131807236     0.4267471787764799\n",
       "     2019-03-23 01:33:50  0.257 sec   3.0                0.6320126190675855  1.0040613857019625  0.41780847168118757              0.6332717201538721  1.007685487076652     0.42575727578697287\n",
       "     2019-03-23 01:33:50  0.336 sec   4.0                0.623370000355069   0.9829749420985102  0.4173783747250452               0.625188750816034   0.9881133752716158    0.42536131459117005\n",
       "---  ---                  ---         ---                ---                 ---                 ---                              ---                 ---                   ---\n",
       "     2019-03-23 01:33:54  3.568 sec   40.0               0.5509232146450861  0.8361600004599044  0.3877877041424481               0.5650384583031524  0.876421651502957     0.41387843991288853\n",
       "     2019-03-23 01:33:54  3.685 sec   41.0               0.550430646289938   0.8351471369995495  0.3868783562923185               0.5648464987720755  0.8762806634438568    0.4127895466244308\n",
       "     2019-03-23 01:33:54  3.805 sec   42.0               0.549984372328463   0.8341874324267285  0.3864728363050985               0.5646965269145038  0.8761784948340602    0.4124925757275787\n",
       "     2019-03-23 01:33:54  3.925 sec   43.0               0.549606804077301   0.8333519652634095  0.3858584120820379               0.5645608362282264  0.8760204706026892    0.41298752722233223\n",
       "     2019-03-23 01:33:55  4.662 sec   50.0               0.5469285005970197  0.8275123245203799  0.38188923160106664              0.5635656982975601  0.8749692429862734    0.41110671154226885"
      ]
     },
     "metadata": {},
     "output_type": "display_data"
    },
    {
     "name": "stdout",
     "output_type": "stream",
     "text": [
      "\n",
      "See the whole table with table.as_data_frame()\n",
      "Variable Importances: \n"
     ]
    },
    {
     "data": {
      "text/html": [
       "<div style=\"overflow:auto\"><table style=\"width:50%\"><tr><td><b>variable</b></td>\n",
       "<td><b>relative_importance</b></td>\n",
       "<td><b>scaled_importance</b></td>\n",
       "<td><b>percentage</b></td></tr>\n",
       "<tr><td>number_inpatient</td>\n",
       "<td>8214.6777344</td>\n",
       "<td>1.0</td>\n",
       "<td>0.2660553</td></tr>\n",
       "<tr><td>diag_3_diag_2_diag_1</td>\n",
       "<td>7589.8188477</td>\n",
       "<td>0.9239339</td>\n",
       "<td>0.2458175</td></tr>\n",
       "<tr><td>discharge_disposition_id</td>\n",
       "<td>5351.5639648</td>\n",
       "<td>0.6514637</td>\n",
       "<td>0.1733253</td></tr>\n",
       "<tr><td>medical_specialty</td>\n",
       "<td>2648.9838867</td>\n",
       "<td>0.3224696</td>\n",
       "<td>0.0857947</td></tr>\n",
       "<tr><td>admission_source_id</td>\n",
       "<td>1290.1549072</td>\n",
       "<td>0.1570548</td>\n",
       "<td>0.0417853</td></tr>\n",
       "<tr><td>---</td>\n",
       "<td>---</td>\n",
       "<td>---</td>\n",
       "<td>---</td></tr>\n",
       "<tr><td>num_procedures</td>\n",
       "<td>122.1229401</td>\n",
       "<td>0.0148664</td>\n",
       "<td>0.0039553</td></tr>\n",
       "<tr><td>metformin</td>\n",
       "<td>94.8217773</td>\n",
       "<td>0.0115430</td>\n",
       "<td>0.0030711</td></tr>\n",
       "<tr><td>A1Cresult</td>\n",
       "<td>90.8792419</td>\n",
       "<td>0.0110630</td>\n",
       "<td>0.0029434</td></tr>\n",
       "<tr><td>max_glu_serum</td>\n",
       "<td>43.3879356</td>\n",
       "<td>0.0052818</td>\n",
       "<td>0.0014052</td></tr>\n",
       "<tr><td>gender</td>\n",
       "<td>28.1991997</td>\n",
       "<td>0.0034328</td>\n",
       "<td>0.0009133</td></tr></table></div>"
      ],
      "text/plain": [
       "variable                  relative_importance    scaled_importance      percentage\n",
       "------------------------  ---------------------  ---------------------  ---------------------\n",
       "number_inpatient          8214.677734375         1.0                    0.26605527520006117\n",
       "diag_3_diag_2_diag_1      7589.81884765625       0.9239338526812834     0.24581747544177163\n",
       "discharge_disposition_id  5351.56396484375       0.651463652974442      0.1733253414749523\n",
       "medical_specialty         2648.98388671875       0.32246960530586094    0.08579473958330594\n",
       "admission_source_id       1290.1549072265625     0.15705484121766608    0.04178526900166806\n",
       "---                       ---                    ---                    ---\n",
       "num_procedures            122.12294006347656     0.014866431041164646   0.003955292401899792\n",
       "metformin                 94.82177734375         0.01154296984128305    0.0030710680177485684\n",
       "A1Cresult                 90.87924194335938      0.011063031914577446   0.0029433780005799623\n",
       "max_glu_serum             43.387935638427734     0.0052817574884121525  0.0014052394421194792\n",
       "gender                    28.199199676513672     0.0034327822208425514  0.0009133098184681423"
      ]
     },
     "metadata": {},
     "output_type": "display_data"
    },
    {
     "name": "stdout",
     "output_type": "stream",
     "text": [
      "\n",
      "See the whole table with table.as_data_frame()\n"
     ]
    },
    {
     "data": {
      "text/plain": []
     },
     "execution_count": 61,
     "metadata": {},
     "output_type": "execute_result"
    }
   ],
   "source": [
    "best_gbm.train(list(set(train.col_names) - set(['readmitted','diag_1', 'diag_2', 'diag_3']) - set(medicines)), covtype_y,\n",
    "                training_frame=train,\n",
    "                validation_frame=valid)\n",
    "best_gbm"
   ]
  },
  {
   "cell_type": "markdown",
   "metadata": {},
   "source": [
    "Removing these essentially useless features further improves our model's performance. We have also eliminated most of the overfitting problem."
   ]
  },
  {
   "cell_type": "code",
   "execution_count": 59,
   "metadata": {},
   "outputs": [],
   "source": [
    "removed_features = set(['readmitted','diag_1', 'diag_2', 'diag_3'])\n",
    "removed_features = removed_features.union(set(medicines))"
   ]
  },
  {
   "cell_type": "markdown",
   "metadata": {},
   "source": [
    "Let's retrain the random forest aswell."
   ]
  },
  {
   "cell_type": "code",
   "execution_count": 62,
   "metadata": {},
   "outputs": [
    {
     "name": "stdout",
     "output_type": "stream",
     "text": [
      "drf Model Build progress: |███████████████████████████████████████████████| 100%\n"
     ]
    }
   ],
   "source": [
    "best_rf.train(list(set(train.col_names) - set(['readmitted','diag_1', 'diag_2', 'diag_3']) - set(medicines)), covtype_y,\n",
    "                training_frame=train,\n",
    "                validation_frame=valid)\n"
   ]
  },
  {
   "cell_type": "code",
   "execution_count": 73,
   "metadata": {},
   "outputs": [
    {
     "name": "stdout",
     "output_type": "stream",
     "text": [
      "Model Details\n",
      "=============\n",
      "H2ORandomForestEstimator :  Distributed Random Forest\n",
      "Model Key:  DRF_model_python_1553284516351_6\n",
      "\n",
      "\n",
      "ModelMetricsMultinomial: drf\n",
      "** Reported on train data. **\n",
      "\n",
      "MSE: 0.316581176273969\n",
      "RMSE: 0.5626554685364472\n",
      "LogLoss: 0.8970205915027385\n",
      "Mean Per-Class Error: 0.5871972608981265\n",
      "Confusion Matrix: Row labels: Actual class; Column labels: Predicted class\n",
      "\n"
     ]
    },
    {
     "data": {
      "text/html": [
       "<div style=\"overflow:auto\"><table style=\"width:50%\"><tr><td><b><30</b></td>\n",
       "<td><b>>30</b></td>\n",
       "<td><b>NO</b></td>\n",
       "<td><b>Error</b></td>\n",
       "<td><b>Rate</b></td></tr>\n",
       "<tr><td>369.0</td>\n",
       "<td>3320.0</td>\n",
       "<td>5382.0</td>\n",
       "<td>0.9593209</td>\n",
       "<td>8,702 / 9,071</td></tr>\n",
       "<tr><td>323.0</td>\n",
       "<td>10153.0</td>\n",
       "<td>17833.0</td>\n",
       "<td>0.6413508</td>\n",
       "<td>18,156 / 28,309</td></tr>\n",
       "<tr><td>183.0</td>\n",
       "<td>6897.0</td>\n",
       "<td>36917.0</td>\n",
       "<td>0.1609201</td>\n",
       "<td>7,080 / 43,997</td></tr>\n",
       "<tr><td>875.0</td>\n",
       "<td>20370.0</td>\n",
       "<td>60132.0</td>\n",
       "<td>0.4170466</td>\n",
       "<td>33,938 / 81,377</td></tr></table></div>"
      ],
      "text/plain": [
       "<30    >30    NO     Error     Rate\n",
       "-----  -----  -----  --------  ---------------\n",
       "369    3320   5382   0.959321  8,702 / 9,071\n",
       "323    10153  17833  0.641351  18,156 / 28,309\n",
       "183    6897   36917  0.16092   7,080 / 43,997\n",
       "875    20370  60132  0.417047  33,938 / 81,377"
      ]
     },
     "metadata": {},
     "output_type": "display_data"
    },
    {
     "name": "stdout",
     "output_type": "stream",
     "text": [
      "Top-3 Hit Ratios: \n"
     ]
    },
    {
     "data": {
      "text/html": [
       "<div style=\"overflow:auto\"><table style=\"width:50%\"><tr><td><b>k</b></td>\n",
       "<td><b>hit_ratio</b></td></tr>\n",
       "<tr><td>1</td>\n",
       "<td>0.5829534</td></tr>\n",
       "<tr><td>2</td>\n",
       "<td>0.8903499</td></tr>\n",
       "<tr><td>3</td>\n",
       "<td>1.0</td></tr></table></div>"
      ],
      "text/plain": [
       "k    hit_ratio\n",
       "---  -----------\n",
       "1    0.582953\n",
       "2    0.89035\n",
       "3    1"
      ]
     },
     "metadata": {},
     "output_type": "display_data"
    },
    {
     "name": "stdout",
     "output_type": "stream",
     "text": [
      "\n",
      "ModelMetricsMultinomial: drf\n",
      "** Reported on validation data. **\n",
      "\n",
      "MSE: 0.31605992917925785\n",
      "RMSE: 0.562192074987951\n",
      "LogLoss: 0.8772703541382872\n",
      "Mean Per-Class Error: 0.582912938718951\n",
      "Confusion Matrix: Row labels: Actual class; Column labels: Predicted class\n",
      "\n"
     ]
    },
    {
     "data": {
      "text/html": [
       "<div style=\"overflow:auto\"><table style=\"width:50%\"><tr><td><b><30</b></td>\n",
       "<td><b>>30</b></td>\n",
       "<td><b>NO</b></td>\n",
       "<td><b>Error</b></td>\n",
       "<td><b>Rate</b></td></tr>\n",
       "<tr><td>38.0</td>\n",
       "<td>455.0</td>\n",
       "<td>668.0</td>\n",
       "<td>0.9672696</td>\n",
       "<td>1,123 / 1,161</td></tr>\n",
       "<tr><td>20.0</td>\n",
       "<td>1313.0</td>\n",
       "<td>2228.0</td>\n",
       "<td>0.6312833</td>\n",
       "<td>2,248 / 3,561</td></tr>\n",
       "<tr><td>12.0</td>\n",
       "<td>796.0</td>\n",
       "<td>4572.0</td>\n",
       "<td>0.1501859</td>\n",
       "<td>808 / 5,380</td></tr>\n",
       "<tr><td>70.0</td>\n",
       "<td>2564.0</td>\n",
       "<td>7468.0</td>\n",
       "<td>0.4136805</td>\n",
       "<td>4,179 / 10,102</td></tr></table></div>"
      ],
      "text/plain": [
       "<30    >30    NO    Error     Rate\n",
       "-----  -----  ----  --------  --------------\n",
       "38     455    668   0.96727   1,123 / 1,161\n",
       "20     1313   2228  0.631283  2,248 / 3,561\n",
       "12     796    4572  0.150186  808 / 5,380\n",
       "70     2564   7468  0.41368   4,179 / 10,102"
      ]
     },
     "metadata": {},
     "output_type": "display_data"
    },
    {
     "name": "stdout",
     "output_type": "stream",
     "text": [
      "Top-3 Hit Ratios: \n"
     ]
    },
    {
     "data": {
      "text/html": [
       "<div style=\"overflow:auto\"><table style=\"width:50%\"><tr><td><b>k</b></td>\n",
       "<td><b>hit_ratio</b></td></tr>\n",
       "<tr><td>1</td>\n",
       "<td>0.5863196</td></tr>\n",
       "<tr><td>2</td>\n",
       "<td>0.8943773</td></tr>\n",
       "<tr><td>3</td>\n",
       "<td>1.0</td></tr></table></div>"
      ],
      "text/plain": [
       "k    hit_ratio\n",
       "---  -----------\n",
       "1    0.58632\n",
       "2    0.894377\n",
       "3    1"
      ]
     },
     "metadata": {},
     "output_type": "display_data"
    },
    {
     "name": "stdout",
     "output_type": "stream",
     "text": [
      "Scoring History: \n"
     ]
    },
    {
     "data": {
      "text/html": [
       "<div style=\"overflow:auto\"><table style=\"width:50%\"><tr><td><b></b></td>\n",
       "<td><b>timestamp</b></td>\n",
       "<td><b>duration</b></td>\n",
       "<td><b>number_of_trees</b></td>\n",
       "<td><b>training_rmse</b></td>\n",
       "<td><b>training_logloss</b></td>\n",
       "<td><b>training_classification_error</b></td>\n",
       "<td><b>validation_rmse</b></td>\n",
       "<td><b>validation_logloss</b></td>\n",
       "<td><b>validation_classification_error</b></td></tr>\n",
       "<tr><td></td>\n",
       "<td>2019-03-23 01:33:59</td>\n",
       "<td> 0.020 sec</td>\n",
       "<td>0.0</td>\n",
       "<td>nan</td>\n",
       "<td>nan</td>\n",
       "<td>nan</td>\n",
       "<td>nan</td>\n",
       "<td>nan</td>\n",
       "<td>nan</td></tr>\n",
       "<tr><td></td>\n",
       "<td>2019-03-23 01:33:59</td>\n",
       "<td> 0.240 sec</td>\n",
       "<td>1.0</td>\n",
       "<td>0.6478950</td>\n",
       "<td>8.6634833</td>\n",
       "<td>0.4800577</td>\n",
       "<td>0.6438013</td>\n",
       "<td>8.1609092</td>\n",
       "<td>0.4835676</td></tr>\n",
       "<tr><td></td>\n",
       "<td>2019-03-23 01:33:59</td>\n",
       "<td> 0.434 sec</td>\n",
       "<td>2.0</td>\n",
       "<td>0.6362837</td>\n",
       "<td>7.5685758</td>\n",
       "<td>0.4744624</td>\n",
       "<td>0.5938399</td>\n",
       "<td>3.5551476</td>\n",
       "<td>0.4629776</td></tr>\n",
       "<tr><td></td>\n",
       "<td>2019-03-23 01:33:59</td>\n",
       "<td> 0.607 sec</td>\n",
       "<td>3.0</td>\n",
       "<td>0.6224131</td>\n",
       "<td>6.2354153</td>\n",
       "<td>0.4670395</td>\n",
       "<td>0.5797562</td>\n",
       "<td>1.9578463</td>\n",
       "<td>0.4457533</td></tr>\n",
       "<tr><td></td>\n",
       "<td>2019-03-23 01:34:00</td>\n",
       "<td> 0.808 sec</td>\n",
       "<td>4.0</td>\n",
       "<td>0.6122358</td>\n",
       "<td>5.2898131</td>\n",
       "<td>0.4624551</td>\n",
       "<td>0.5743718</td>\n",
       "<td>1.4227421</td>\n",
       "<td>0.4386260</td></tr>\n",
       "<tr><td></td>\n",
       "<td>2019-03-23 01:34:00</td>\n",
       "<td> 1.124 sec</td>\n",
       "<td>5.0</td>\n",
       "<td>0.6057839</td>\n",
       "<td>4.6232092</td>\n",
       "<td>0.4596597</td>\n",
       "<td>0.5712789</td>\n",
       "<td>1.1676336</td>\n",
       "<td>0.4313997</td></tr>\n",
       "<tr><td></td>\n",
       "<td>2019-03-23 01:34:00</td>\n",
       "<td> 1.433 sec</td>\n",
       "<td>6.0</td>\n",
       "<td>0.5992014</td>\n",
       "<td>3.9516163</td>\n",
       "<td>0.4562091</td>\n",
       "<td>0.5694738</td>\n",
       "<td>1.0425400</td>\n",
       "<td>0.4282320</td></tr>\n",
       "<tr><td></td>\n",
       "<td>2019-03-23 01:34:00</td>\n",
       "<td> 1.763 sec</td>\n",
       "<td>7.0</td>\n",
       "<td>0.5942237</td>\n",
       "<td>3.4824036</td>\n",
       "<td>0.4523397</td>\n",
       "<td>0.5684232</td>\n",
       "<td>1.0039635</td>\n",
       "<td>0.4281330</td></tr>\n",
       "<tr><td></td>\n",
       "<td>2019-03-23 01:34:01</td>\n",
       "<td> 2.144 sec</td>\n",
       "<td>8.0</td>\n",
       "<td>0.5893646</td>\n",
       "<td>3.0188883</td>\n",
       "<td>0.4494223</td>\n",
       "<td>0.5674646</td>\n",
       "<td>0.9785723</td>\n",
       "<td>0.4255593</td></tr>\n",
       "<tr><td></td>\n",
       "<td>2019-03-23 01:34:01</td>\n",
       "<td> 2.474 sec</td>\n",
       "<td>9.0</td>\n",
       "<td>0.5854985</td>\n",
       "<td>2.6552549</td>\n",
       "<td>0.4458072</td>\n",
       "<td>0.5665667</td>\n",
       "<td>0.9397936</td>\n",
       "<td>0.4214017</td></tr>\n",
       "<tr><td></td>\n",
       "<td>2019-03-23 01:34:01</td>\n",
       "<td> 2.805 sec</td>\n",
       "<td>10.0</td>\n",
       "<td>0.5822300</td>\n",
       "<td>2.3484419</td>\n",
       "<td>0.4425429</td>\n",
       "<td>0.5661758</td>\n",
       "<td>0.9271328</td>\n",
       "<td>0.4181350</td></tr>\n",
       "<tr><td></td>\n",
       "<td>2019-03-23 01:34:02</td>\n",
       "<td> 3.137 sec</td>\n",
       "<td>11.0</td>\n",
       "<td>0.5793090</td>\n",
       "<td>2.0614109</td>\n",
       "<td>0.4391046</td>\n",
       "<td>0.5656727</td>\n",
       "<td>0.9209354</td>\n",
       "<td>0.4177391</td></tr>\n",
       "<tr><td></td>\n",
       "<td>2019-03-23 01:34:02</td>\n",
       "<td> 3.459 sec</td>\n",
       "<td>12.0</td>\n",
       "<td>0.5771063</td>\n",
       "<td>1.8535279</td>\n",
       "<td>0.4372447</td>\n",
       "<td>0.5651442</td>\n",
       "<td>0.9142236</td>\n",
       "<td>0.4169471</td></tr>\n",
       "<tr><td></td>\n",
       "<td>2019-03-23 01:34:03</td>\n",
       "<td> 3.826 sec</td>\n",
       "<td>13.0</td>\n",
       "<td>0.5750785</td>\n",
       "<td>1.6893022</td>\n",
       "<td>0.4357426</td>\n",
       "<td>0.5648489</td>\n",
       "<td>0.9094143</td>\n",
       "<td>0.4155613</td></tr>\n",
       "<tr><td></td>\n",
       "<td>2019-03-23 01:34:07</td>\n",
       "<td> 7.917 sec</td>\n",
       "<td>29.0</td>\n",
       "<td>0.5651397</td>\n",
       "<td>0.9698599</td>\n",
       "<td>0.4224904</td>\n",
       "<td>0.5624912</td>\n",
       "<td>0.8834099</td>\n",
       "<td>0.4123936</td></tr>\n",
       "<tr><td></td>\n",
       "<td>2019-03-23 01:34:11</td>\n",
       "<td>12.182 sec</td>\n",
       "<td>44.0</td>\n",
       "<td>0.5630429</td>\n",
       "<td>0.9049660</td>\n",
       "<td>0.4178085</td>\n",
       "<td>0.5621366</td>\n",
       "<td>0.8774603</td>\n",
       "<td>0.4151653</td></tr>\n",
       "<tr><td></td>\n",
       "<td>2019-03-23 01:34:13</td>\n",
       "<td>14.109 sec</td>\n",
       "<td>50.0</td>\n",
       "<td>0.5626555</td>\n",
       "<td>0.8970206</td>\n",
       "<td>0.4170466</td>\n",
       "<td>0.5621921</td>\n",
       "<td>0.8772704</td>\n",
       "<td>0.4136805</td></tr></table></div>"
      ],
      "text/plain": [
       "    timestamp            duration    number_of_trees    training_rmse    training_logloss    training_classification_error    validation_rmse    validation_logloss    validation_classification_error\n",
       "--  -------------------  ----------  -----------------  ---------------  ------------------  -------------------------------  -----------------  --------------------  ---------------------------------\n",
       "    2019-03-23 01:33:59  0.020 sec   0                  nan              nan                 nan                              nan                nan                   nan\n",
       "    2019-03-23 01:33:59  0.240 sec   1                  0.647895         8.66348             0.480058                         0.643801           8.16091               0.483568\n",
       "    2019-03-23 01:33:59  0.434 sec   2                  0.636284         7.56858             0.474462                         0.59384            3.55515               0.462978\n",
       "    2019-03-23 01:33:59  0.607 sec   3                  0.622413         6.23542             0.467039                         0.579756           1.95785               0.445753\n",
       "    2019-03-23 01:34:00  0.808 sec   4                  0.612236         5.28981             0.462455                         0.574372           1.42274               0.438626\n",
       "    2019-03-23 01:34:00  1.124 sec   5                  0.605784         4.62321             0.45966                          0.571279           1.16763               0.4314\n",
       "    2019-03-23 01:34:00  1.433 sec   6                  0.599201         3.95162             0.456209                         0.569474           1.04254               0.428232\n",
       "    2019-03-23 01:34:00  1.763 sec   7                  0.594224         3.4824              0.45234                          0.568423           1.00396               0.428133\n",
       "    2019-03-23 01:34:01  2.144 sec   8                  0.589365         3.01889             0.449422                         0.567465           0.978572              0.425559\n",
       "    2019-03-23 01:34:01  2.474 sec   9                  0.585498         2.65525             0.445807                         0.566567           0.939794              0.421402\n",
       "    2019-03-23 01:34:01  2.805 sec   10                 0.58223          2.34844             0.442543                         0.566176           0.927133              0.418135\n",
       "    2019-03-23 01:34:02  3.137 sec   11                 0.579309         2.06141             0.439105                         0.565673           0.920935              0.417739\n",
       "    2019-03-23 01:34:02  3.459 sec   12                 0.577106         1.85353             0.437245                         0.565144           0.914224              0.416947\n",
       "    2019-03-23 01:34:03  3.826 sec   13                 0.575078         1.6893              0.435743                         0.564849           0.909414              0.415561\n",
       "    2019-03-23 01:34:07  7.917 sec   29                 0.56514          0.96986             0.42249                          0.562491           0.88341               0.412394\n",
       "    2019-03-23 01:34:11  12.182 sec  44                 0.563043         0.904966            0.417808                         0.562137           0.87746               0.415165\n",
       "    2019-03-23 01:34:13  14.109 sec  50                 0.562655         0.897021            0.417047                         0.562192           0.87727               0.41368"
      ]
     },
     "metadata": {},
     "output_type": "display_data"
    },
    {
     "name": "stdout",
     "output_type": "stream",
     "text": [
      "Variable Importances: \n"
     ]
    },
    {
     "data": {
      "text/html": [
       "<div style=\"overflow:auto\"><table style=\"width:50%\"><tr><td><b>variable</b></td>\n",
       "<td><b>relative_importance</b></td>\n",
       "<td><b>scaled_importance</b></td>\n",
       "<td><b>percentage</b></td></tr>\n",
       "<tr><td>diag_3_diag_2_diag_1</td>\n",
       "<td>152065.3437500</td>\n",
       "<td>1.0</td>\n",
       "<td>0.2095225</td></tr>\n",
       "<tr><td>medical_specialty</td>\n",
       "<td>63571.3164062</td>\n",
       "<td>0.4180526</td>\n",
       "<td>0.0875914</td></tr>\n",
       "<tr><td>discharge_disposition_id</td>\n",
       "<td>61543.9257812</td>\n",
       "<td>0.4047203</td>\n",
       "<td>0.0847980</td></tr>\n",
       "<tr><td>number_inpatient</td>\n",
       "<td>57721.2929688</td>\n",
       "<td>0.3795822</td>\n",
       "<td>0.0795310</td></tr>\n",
       "<tr><td>num_lab_procedures</td>\n",
       "<td>47469.4218750</td>\n",
       "<td>0.3121646</td>\n",
       "<td>0.0654055</td></tr>\n",
       "<tr><td>---</td>\n",
       "<td>---</td>\n",
       "<td>---</td>\n",
       "<td>---</td></tr>\n",
       "<tr><td>number_emergency</td>\n",
       "<td>11606.2880859</td>\n",
       "<td>0.0763243</td>\n",
       "<td>0.0159917</td></tr>\n",
       "<tr><td>gender</td>\n",
       "<td>10920.6972656</td>\n",
       "<td>0.0718158</td>\n",
       "<td>0.0150470</td></tr>\n",
       "<tr><td>metformin</td>\n",
       "<td>10327.8134766</td>\n",
       "<td>0.0679169</td>\n",
       "<td>0.0142301</td></tr>\n",
       "<tr><td>diabetesMed</td>\n",
       "<td>7291.2446289</td>\n",
       "<td>0.0479481</td>\n",
       "<td>0.0100462</td></tr>\n",
       "<tr><td>max_glu_serum</td>\n",
       "<td>6675.2133789</td>\n",
       "<td>0.0438970</td>\n",
       "<td>0.0091974</td></tr></table></div>"
      ],
      "text/plain": [
       "variable                  relative_importance    scaled_importance     percentage\n",
       "------------------------  ---------------------  --------------------  --------------------\n",
       "diag_3_diag_2_diag_1      152065.34375           1.0                   0.20952250287753685\n",
       "medical_specialty         63571.31640625         0.41805262684154487   0.08759143271036943\n",
       "discharge_disposition_id  61543.92578125         0.4047202621159366    0.08479800228378379\n",
       "number_inpatient          57721.29296875         0.3795821687263966    0.07953100603923811\n",
       "num_lab_procedures        47469.421875           0.3121646307066596    0.06540551473550131\n",
       "---                       ---                    ---                   ---\n",
       "number_emergency          11606.2880859375       0.07632434715051568   0.015991668245470044\n",
       "gender                    10920.697265625        0.07181581941233733   0.015047030229474116\n",
       "metformin                 10327.8134765625       0.06791694426799663   0.014230128150824833\n",
       "diabetesMed               7291.24462890625       0.047948102105981986  0.010046206361473041\n",
       "max_glu_serum             6675.21337890625       0.04389700647295745   0.009197410665045482"
      ]
     },
     "metadata": {},
     "output_type": "display_data"
    },
    {
     "name": "stdout",
     "output_type": "stream",
     "text": [
      "\n",
      "See the whole table with table.as_data_frame()\n"
     ]
    },
    {
     "data": {
      "text/plain": []
     },
     "execution_count": 73,
     "metadata": {},
     "output_type": "execute_result"
    }
   ],
   "source": [
    "best_rf"
   ]
  },
  {
   "cell_type": "markdown",
   "metadata": {},
   "source": [
    "These changes in features also worked for the random forest and underfitting has improved considerably as well."
   ]
  },
  {
   "cell_type": "code",
   "execution_count": 63,
   "metadata": {},
   "outputs": [
    {
     "name": "stdout",
     "output_type": "stream",
     "text": [
      "gbm prediction progress: |████████████████████████████████████████████████| 100%\n",
      "drf prediction progress: |████████████████████████████████████████████████| 100%\n"
     ]
    }
   ],
   "source": [
    "pred_gbm = best_gbm.predict(valid)\n",
    "pred_rf = best_rf.predict(valid)\n"
   ]
  },
  {
   "cell_type": "code",
   "execution_count": 64,
   "metadata": {},
   "outputs": [
    {
     "name": "stdout",
     "output_type": "stream",
     "text": [
      "0.5863195406850129 0\n",
      "0.5862205503860621 1\n",
      "0.5867155018808157 2\n",
      "0.5878043951692734 3\n",
      "0.5888932884577311 4\n",
      "0.5893882399524847 5\n",
      "0.5889922787566818 6\n",
      "0.5887942981587805 7\n",
      "0.5891902593545832 8\n",
      "0.5892892496535339 9\n",
      "0.5897842011482874 10\n",
      "0.590279152643041 11\n",
      "0.590279152643041 12\n",
      "0.5908730944367452 13\n",
      "0.5906751138388437 14\n",
      "0.5903781429419916 15\n",
      "0.5911700653335973 16\n",
      "0.5914670362304494 17\n",
      "0.5901801623440903 18\n",
      "0.5891902593545832 19\n",
      "0.5888932884577311 20\n"
     ]
    }
   ],
   "source": [
    "for i in range(0,21):\n",
    "    pred = i/20*pred_gbm + (1-i/20)*pred_rf\n",
    "    pred1= pred.as_data_frame()\n",
    "    p1 = pred1.iloc[:, 1:]\n",
    "    td.iloc[td.index[p1['NO'] == np.amax(p1.values, axis=1)],-1] = 'NO'\n",
    "    td.iloc[td.index[p1['>30'] == np.amax(p1.values, axis=1)],-1] = '>30'\n",
    "    td.iloc[td.index[p1['<30'] == np.amax(p1.values, axis=1)],-1] = '<30'\n",
    "    print((((td2 == td)['readmitted']).sum())/(td2['readmitted'].count()), i)"
   ]
  },
  {
   "cell_type": "code",
   "execution_count": 65,
   "metadata": {},
   "outputs": [
    {
     "name": "stdout",
     "output_type": "stream",
     "text": [
      "gbm prediction progress: |████████████████████████████████████████████████| 100%\n",
      "drf prediction progress: |████████████████████████████████████████████████| 100%\n"
     ]
    }
   ],
   "source": [
    "pred_gbm = best_gbm.predict(test)\n",
    "pred_rf = best_rf.predict(test)"
   ]
  },
  {
   "cell_type": "code",
   "execution_count": 66,
   "metadata": {},
   "outputs": [],
   "source": [
    "td2 = test.as_data_frame()\n",
    "td = test.as_data_frame()"
   ]
  },
  {
   "cell_type": "code",
   "execution_count": 72,
   "metadata": {},
   "outputs": [
    {
     "name": "stdout",
     "output_type": "stream",
     "text": [
      "0.5899679206765821 17\n"
     ]
    }
   ],
   "source": [
    "i=17\n",
    "pred = i/20*pred_gbm + (1-i/20)*pred_rf\n",
    "pred1= pred.as_data_frame()\n",
    "p1 = pred1.iloc[:, 1:]\n",
    "td.iloc[td.index[p1['NO'] == np.amax(p1.values, axis=1)],-2] = 'NO'\n",
    "td.iloc[td.index[p1['>30'] == np.amax(p1.values, axis=1)],-2] = '>30'\n",
    "td.iloc[td.index[p1['<30'] == np.amax(p1.values, axis=1)],-2] = '<30'\n",
    "print((((td2 == td)['readmitted']).sum())/(td2['readmitted'].count()), i)"
   ]
  },
  {
   "cell_type": "markdown",
   "metadata": {},
   "source": [
    "The final accuracy on test set is 58.99%\n"
   ]
  },
  {
   "cell_type": "code",
   "execution_count": null,
   "metadata": {},
   "outputs": [],
   "source": []
  }
 ],
 "metadata": {
  "kernelspec": {
   "display_name": "Python 3",
   "language": "python",
   "name": "python3"
  },
  "language_info": {
   "codemirror_mode": {
    "name": "ipython",
    "version": 3
   },
   "file_extension": ".py",
   "mimetype": "text/x-python",
   "name": "python",
   "nbconvert_exporter": "python",
   "pygments_lexer": "ipython3",
   "version": "3.6.5"
  }
 },
 "nbformat": 4,
 "nbformat_minor": 2
}
